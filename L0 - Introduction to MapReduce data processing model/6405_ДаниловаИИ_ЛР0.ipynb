{
 "cells": [
  {
   "cell_type": "markdown",
   "metadata": {
    "id": "82OvPKEiEqjc"
   },
   "source": [
    "# Введение в MapReduce модель на Python\n"
   ]
  },
  {
   "cell_type": "code",
   "execution_count": 65,
   "metadata": {
    "id": "JQ2cvXLjICmI"
   },
   "outputs": [],
   "source": [
    "from typing import NamedTuple # requires python 3.6+\n",
    "from typing import Iterator"
   ]
  },
  {
   "cell_type": "code",
   "execution_count": 66,
   "metadata": {
    "id": "yjPHumVwEyEg"
   },
   "outputs": [],
   "source": [
    "def MAP(_, row:NamedTuple):#фильтрует только женщин и создаёт генератор по возрасту\n",
    "  if (row.gender == 'female'):\n",
    "    yield (row.age, row)\n",
    "    \n",
    "def REDUCE(age:str, rows:Iterator[NamedTuple]):#вычисляет среднее кол-во социальных контактов для каждого возраста\n",
    "  sum = 0\n",
    "  count = 0\n",
    "  for row in rows:\n",
    "    sum += row.social_contacts\n",
    "    count += 1\n",
    "  if (count > 0):\n",
    "    yield (age, sum/count)\n",
    "  else:\n",
    "    yield (age, 0)"
   ]
  },
  {
   "cell_type": "markdown",
   "metadata": {
    "id": "vBKMgpG_ilaZ"
   },
   "source": [
    "Модель элемента данных"
   ]
  },
  {
   "cell_type": "code",
   "execution_count": 67,
   "metadata": {
    "id": "Rv-XIjhTJPx3"
   },
   "outputs": [],
   "source": [
    "class User(NamedTuple):\n",
    "  id: int\n",
    "  age: str\n",
    "  social_contacts: int\n",
    "  gender: str"
   ]
  },
  {
   "cell_type": "code",
   "execution_count": 68,
   "metadata": {
    "id": "5KV0Ze2vQgu5"
   },
   "outputs": [],
   "source": [
    "input_collection = [\n",
    "    User(id=0, age=55, gender='male', social_contacts=20),\n",
    "    User(id=1, age=25, gender='female', social_contacts=240),\n",
    "    User(id=2, age=25, gender='female', social_contacts=500),\n",
    "    User(id=3, age=33, gender='female', social_contacts=800)\n",
    "]"
   ]
  },
  {
   "cell_type": "markdown",
   "metadata": {
    "id": "YFeqzyZxZIFZ"
   },
   "source": [
    "Функция RECORDREADER моделирует чтение элементов с диска или по сети."
   ]
  },
  {
   "cell_type": "code",
   "execution_count": 69,
   "metadata": {
    "id": "S5HR4E_GQoMJ"
   },
   "outputs": [],
   "source": [
    "def RECORDREADER():#возвращает список из кортежей\n",
    "  return [(u.id, u) for u in input_collection]"
   ]
  },
  {
   "cell_type": "code",
   "execution_count": 70,
   "metadata": {
    "colab": {
     "base_uri": "https://localhost:8080/",
     "height": 85
    },
    "id": "NeEoWla-ROUy",
    "outputId": "94ca6e0e-4644-4282-acbf-1759d7ba2918"
   },
   "outputs": [
    {
     "data": {
      "text/plain": [
       "[(0, User(id=0, age=55, social_contacts=20, gender='male')),\n",
       " (1, User(id=1, age=25, social_contacts=240, gender='female')),\n",
       " (2, User(id=2, age=25, social_contacts=500, gender='female')),\n",
       " (3, User(id=3, age=33, social_contacts=800, gender='female'))]"
      ]
     },
     "execution_count": 70,
     "metadata": {},
     "output_type": "execute_result"
    }
   ],
   "source": [
    "list(RECORDREADER())"
   ]
  },
  {
   "cell_type": "code",
   "execution_count": 71,
   "metadata": {
    "id": "YB8orgPSZs8M"
   },
   "outputs": [],
   "source": [
    "def flatten(nested_iterable):#превращает в один поток элементов\n",
    "  for iterable in nested_iterable:\n",
    "    for element in iterable:\n",
    "      yield element"
   ]
  },
  {
   "cell_type": "code",
   "execution_count": 72,
   "metadata": {
    "colab": {
     "base_uri": "https://localhost:8080/",
     "height": 68
    },
    "id": "74oyvDLaRmd5",
    "outputId": "c6147702-7153-47c7-a574-d5fe6abe29a8"
   },
   "outputs": [
    {
     "data": {
      "text/plain": [
       "[(25, User(id=1, age=25, social_contacts=240, gender='female')),\n",
       " (25, User(id=2, age=25, social_contacts=500, gender='female')),\n",
       " (33, User(id=3, age=33, social_contacts=800, gender='female'))]"
      ]
     },
     "execution_count": 72,
     "metadata": {},
     "output_type": "execute_result"
    }
   ],
   "source": [
    "map_output = flatten(map(lambda x: MAP(*x), RECORDREADER()))\n",
    "map_output = list(map_output) # materialize\n",
    "map_output"
   ]
  },
  {
   "cell_type": "code",
   "execution_count": 73,
   "metadata": {
    "id": "8ncYDJ3-VzDn"
   },
   "outputs": [],
   "source": [
    "def groupbykey(iterable):#создаёт список по каждому ключу\n",
    "  t = {}\n",
    "  for (k2, v2) in iterable:\n",
    "    t[k2] = t.get(k2, []) + [v2]\n",
    "  return t.items()"
   ]
  },
  {
   "cell_type": "code",
   "execution_count": 74,
   "metadata": {
    "colab": {
     "base_uri": "https://localhost:8080/",
     "height": 85
    },
    "id": "cKzY_6COWOA2",
    "outputId": "e6791b12-e409-47e9-bcd4-e9f8ca8611bd"
   },
   "outputs": [
    {
     "data": {
      "text/plain": [
       "[(25,\n",
       "  [User(id=1, age=25, social_contacts=240, gender='female'),\n",
       "   User(id=2, age=25, social_contacts=500, gender='female')]),\n",
       " (33, [User(id=3, age=33, social_contacts=800, gender='female')])]"
      ]
     },
     "execution_count": 74,
     "metadata": {},
     "output_type": "execute_result"
    }
   ],
   "source": [
    "shuffle_output = groupbykey(map_output)\n",
    "shuffle_output = list(shuffle_output)\n",
    "shuffle_output"
   ]
  },
  {
   "cell_type": "code",
   "execution_count": 75,
   "metadata": {
    "colab": {
     "base_uri": "https://localhost:8080/",
     "height": 34
    },
    "id": "NlA7lkDDYL0t",
    "outputId": "6b25d03f-5c92-4f3b-f500-6d70acd598b7"
   },
   "outputs": [
    {
     "data": {
      "text/plain": [
       "[(25, 370.0), (33, 800.0)]"
      ]
     },
     "execution_count": 75,
     "metadata": {},
     "output_type": "execute_result"
    }
   ],
   "source": [
    "reduce_output = flatten(map(lambda x: REDUCE(*x), shuffle_output))\n",
    "reduce_output = list(reduce_output)\n",
    "reduce_output"
   ]
  },
  {
   "cell_type": "markdown",
   "metadata": {
    "id": "xf6qhHEtd6bI"
   },
   "source": [
    "Все действия одним конвейером!"
   ]
  },
  {
   "cell_type": "code",
   "execution_count": 76,
   "metadata": {
    "colab": {
     "base_uri": "https://localhost:8080/",
     "height": 34
    },
    "id": "dZaQGYxCdpw5",
    "outputId": "3f5c6425-e5c5-49d2-b2cd-ce58a9acc33c"
   },
   "outputs": [
    {
     "data": {
      "text/plain": [
       "[(25, 370.0), (33, 800.0)]"
      ]
     },
     "execution_count": 76,
     "metadata": {},
     "output_type": "execute_result"
    }
   ],
   "source": [
    "list(flatten(map(lambda x: REDUCE(*x), groupbykey(flatten(map(lambda x: MAP(*x), RECORDREADER()))))))"
   ]
  },
  {
   "cell_type": "markdown",
   "metadata": {
    "id": "Vq3EWRIpwSiJ"
   },
   "source": [
    "# **MapReduce**\n",
    "Выделим общую для всех пользователей часть системы в отдельную функцию высшего порядка. Это наиболее простая модель MapReduce, без учёта распределённого хранения данных. \n",
    "\n",
    "Пользователь для решения своей задачи реализует RECORDREADER, MAP, REDUCE."
   ]
  },
  {
   "cell_type": "code",
   "execution_count": 77,
   "metadata": {
    "id": "V1PZeQMwwVjc"
   },
   "outputs": [],
   "source": [
    "def flatten(nested_iterable):\n",
    "  for iterable in nested_iterable:\n",
    "    for element in iterable:\n",
    "      yield element\n",
    "\n",
    "def groupbykey(iterable):\n",
    "  t = {}\n",
    "  for (k2, v2) in iterable:\n",
    "    t[k2] = t.get(k2, []) + [v2]\n",
    "  return t.items()\n",
    "\n",
    "def MapReduce(RECORDREADER, MAP, REDUCE):\n",
    "  return flatten(map(lambda x: REDUCE(*x), groupbykey(flatten(map(lambda x: MAP(*x), RECORDREADER())))))"
   ]
  },
  {
   "cell_type": "markdown",
   "metadata": {
    "id": "iFIVrimep678"
   },
   "source": [
    "## Спецификация MapReduce\n",
    "\n",
    "\n",
    "\n",
    "```\n",
    "f (k1, v1) -> (k2,v2)*\n",
    "g (k2, v2*) -> (k3,v3)*\n",
    " \n",
    "mapreduce ((k1,v1)*) -> (k3,v3)*\n",
    "groupby ((k2,v2)*) -> (k2,v2*)*\n",
    "flatten (e2**) -> e2*\n",
    " \n",
    "mapreduce .map(f).flatten.groupby(k2).map(g).flatten\n",
    "```\n",
    "\n",
    "\n"
   ]
  },
  {
   "cell_type": "markdown",
   "metadata": {
    "id": "QtTFyqke3KGe"
   },
   "source": [
    "# Примеры"
   ]
  },
  {
   "cell_type": "markdown",
   "metadata": {
    "id": "BNhh5763w5Vn"
   },
   "source": [
    "## SQL "
   ]
  },
  {
   "cell_type": "code",
   "execution_count": 78,
   "metadata": {
    "colab": {
     "base_uri": "https://localhost:8080/",
     "height": 34
    },
    "id": "QkyurnvGxBGk",
    "outputId": "84761282-d2ba-435a-e8d7-a85150730e10"
   },
   "outputs": [
    {
     "data": {
      "text/plain": [
       "[(25, 370.0), (33, 800.0)]"
      ]
     },
     "execution_count": 78,
     "metadata": {},
     "output_type": "execute_result"
    }
   ],
   "source": [
    "from typing import NamedTuple # requires python 3.6+\n",
    "from typing import Iterator\n",
    "\n",
    "class User(NamedTuple):\n",
    "  id: int\n",
    "  age: str\n",
    "  social_contacts: int\n",
    "  gender: str\n",
    "    \n",
    "input_collection = [\n",
    "    User(id=0, age=55, gender='male', social_contacts=20),\n",
    "    User(id=1, age=25, gender='female', social_contacts=240),\n",
    "    User(id=2, age=25, gender='female', social_contacts=500),\n",
    "    User(id=3, age=33, gender='female', social_contacts=800)\n",
    "]\n",
    "\n",
    "def MAP(_, row:NamedTuple):\n",
    "  if (row.gender == 'female'):\n",
    "    yield (row.age, row)\n",
    "    \n",
    "def REDUCE(age:str, rows:Iterator[NamedTuple]):\n",
    "  sum = 0\n",
    "  count = 0\n",
    "  for row in rows:\n",
    "    sum += row.social_contacts\n",
    "    count += 1\n",
    "  if (count > 0):\n",
    "    yield (age, sum/count)\n",
    "  else:\n",
    "    yield (age, 0)\n",
    " \n",
    "def RECORDREADER():\n",
    "  return [(u.id, u) for u in input_collection]\n",
    "\n",
    "output = MapReduce(RECORDREADER, MAP, REDUCE)\n",
    "output = list(output)\n",
    "output"
   ]
  },
  {
   "cell_type": "markdown",
   "metadata": {
    "id": "kNKYIeerx0nY"
   },
   "source": [
    "## Matrix-Vector multiplication "
   ]
  },
  {
   "cell_type": "code",
   "execution_count": 79,
   "metadata": {
    "colab": {
     "base_uri": "https://localhost:8080/",
     "height": 102
    },
    "id": "rwcntRcCyi1V",
    "outputId": "606737ab-6b55-455c-931f-4fc45155f8a9"
   },
   "outputs": [
    {
     "data": {
      "text/plain": [
       "[(0, np.float64(1.992737721273661)),\n",
       " (1, np.float64(1.992737721273661)),\n",
       " (2, np.float64(1.992737721273661)),\n",
       " (3, np.float64(1.992737721273661)),\n",
       " (4, np.float64(1.992737721273661))]"
      ]
     },
     "execution_count": 79,
     "metadata": {},
     "output_type": "execute_result"
    }
   ],
   "source": [
    "from typing import Iterator\n",
    "import numpy as np\n",
    "\n",
    "mat = np.ones((5,4))\n",
    "vec = np.random.rand(4) # in-memory vector in all map tasks\n",
    "\n",
    "def MAP(coordinates:(int, int), value:int):\n",
    "  i, j = coordinates\n",
    "  yield (i, value*vec[j])\n",
    " \n",
    "def REDUCE(i:int, products:Iterator[NamedTuple]):\n",
    "  sum = 0\n",
    "  for p in products:\n",
    "    sum += p\n",
    "  yield (i, sum)\n",
    "\n",
    "def RECORDREADER():\n",
    "  for i in range(mat.shape[0]):\n",
    "    for j in range(mat.shape[1]):\n",
    "      yield ((i, j), mat[i,j])\n",
    "      \n",
    "output = MapReduce(RECORDREADER, MAP, REDUCE)\n",
    "output = list(output)\n",
    "output"
   ]
  },
  {
   "cell_type": "markdown",
   "metadata": {
    "id": "ruZREYdi2o4O"
   },
   "source": [
    "## Inverted index "
   ]
  },
  {
   "cell_type": "code",
   "execution_count": 80,
   "metadata": {
    "colab": {
     "base_uri": "https://localhost:8080/",
     "height": 102
    },
    "id": "vt9H9Alf3TYv",
    "outputId": "51aeffc9-e111-4607-bd84-cfcc7b56f238"
   },
   "outputs": [
    {
     "data": {
      "text/plain": [
       "[('it', ['0', '1', '2']),\n",
       " ('is', ['0', '1', '2']),\n",
       " ('what', ['0', '1']),\n",
       " ('a', ['2']),\n",
       " ('banana', ['2'])]"
      ]
     },
     "execution_count": 80,
     "metadata": {},
     "output_type": "execute_result"
    }
   ],
   "source": [
    "from typing import Iterator\n",
    "\n",
    "d1 = \"it is what it is\"\n",
    "d2 = \"what is it\"\n",
    "d3 = \"it is a banana\"\n",
    "documents = [d1, d2, d3]\n",
    "\n",
    "def RECORDREADER():\n",
    "  for (docid, document) in enumerate(documents):\n",
    "    yield (\"{}\".format(docid), document)\n",
    "      \n",
    "def MAP(docId:str, body:str):\n",
    "  for word in set(body.split(' ')):\n",
    "    yield (word, docId)\n",
    " \n",
    "def REDUCE(word:str, docIds:Iterator[str]):\n",
    "  yield (word, sorted(docIds))\n",
    "\n",
    "output = MapReduce(RECORDREADER, MAP, REDUCE)\n",
    "output = list(output)\n",
    "output"
   ]
  },
  {
   "cell_type": "markdown",
   "metadata": {
    "id": "R7az-6DA6qr2"
   },
   "source": [
    "## WordCount"
   ]
  },
  {
   "cell_type": "code",
   "execution_count": 81,
   "metadata": {
    "colab": {
     "base_uri": "https://localhost:8080/",
     "height": 34
    },
    "id": "dN-nbtgG6uYG",
    "outputId": "24117576-7931-401d-a581-28e246b23453"
   },
   "outputs": [
    {
     "data": {
      "text/plain": [
       "[('', 3), ('it', 9), ('is', 9), ('what', 5), ('a', 1), ('banana', 1)]"
      ]
     },
     "execution_count": 81,
     "metadata": {},
     "output_type": "execute_result"
    }
   ],
   "source": [
    "from typing import Iterator\n",
    "\n",
    "d1 = \"\"\"\n",
    "it is what it is\n",
    "it is what it is\n",
    "it is what it is\"\"\"\n",
    "d2 = \"\"\"\n",
    "what is it\n",
    "what is it\"\"\"\n",
    "d3 = \"\"\"\n",
    "it is a banana\"\"\"\n",
    "documents = [d1, d2, d3]\n",
    "\n",
    "def RECORDREADER():\n",
    "  for (docid, document) in enumerate(documents):\n",
    "    for (lineid, line) in enumerate(document.split('\\n')):\n",
    "      yield (\"{}:{}\".format(docid,lineid), line)\n",
    "\n",
    "def MAP(docId:str, line:str):\n",
    "  for word in line.split(\" \"):  \n",
    "    yield (word, 1)\n",
    " \n",
    "def REDUCE(word:str, counts:Iterator[int]):\n",
    "  sum = 0\n",
    "  for c in counts:\n",
    "    sum += c\n",
    "  yield (word, sum)\n",
    "\n",
    "output = MapReduce(RECORDREADER, MAP, REDUCE)\n",
    "output = list(output)\n",
    "output"
   ]
  },
  {
   "cell_type": "markdown",
   "metadata": {
    "id": "h-jRAcYCAkkk"
   },
   "source": [
    "# MapReduce Distributed\n",
    "\n",
    "Добавляется в модель фабрика RECORDREARER-ов --- INPUTFORMAT, функция распределения промежуточных результатов по партициям PARTITIONER, и функция COMBINER для частичной аггрегации промежуточных результатов до распределения по новым партициям."
   ]
  },
  {
   "cell_type": "code",
   "execution_count": 82,
   "metadata": {
    "id": "nw-b-xJsApgW"
   },
   "outputs": [],
   "source": [
    "def flatten(nested_iterable):\n",
    "  for iterable in nested_iterable:\n",
    "    for element in iterable:\n",
    "      yield element\n",
    "\n",
    "def groupbykey(iterable):\n",
    "  t = {}\n",
    "  for (k2, v2) in iterable:\n",
    "    t[k2] = t.get(k2, []) + [v2]\n",
    "  return t.items()\n",
    "      \n",
    "def groupbykey_distributed(map_partitions, PARTITIONER):\n",
    "  global reducers\n",
    "  partitions = [dict() for _ in range(reducers)]\n",
    "  for map_partition in map_partitions:\n",
    "    for (k2, v2) in map_partition:\n",
    "      p = partitions[PARTITIONER(k2)]\n",
    "      p[k2] = p.get(k2, []) + [v2]\n",
    "  return [(partition_id, sorted(partition.items(), key=lambda x: x[0])) for (partition_id, partition) in enumerate(partitions)]\n",
    " \n",
    "def PARTITIONER(obj):\n",
    "  global reducers\n",
    "  return hash(obj) % reducers\n",
    "  \n",
    "def MapReduceDistributed(INPUTFORMAT, MAP, REDUCE, PARTITIONER=PARTITIONER, COMBINER=None):\n",
    "  map_partitions = map(lambda record_reader: flatten(map(lambda k1v1: MAP(*k1v1), record_reader)), INPUTFORMAT())\n",
    "  if COMBINER != None:\n",
    "    map_partitions = map(lambda map_partition: flatten(map(lambda k2v2: COMBINER(*k2v2), groupbykey(map_partition))), map_partitions)\n",
    "  reduce_partitions = groupbykey_distributed(map_partitions, PARTITIONER) # shuffle\n",
    "  reduce_outputs = map(lambda reduce_partition: (reduce_partition[0], flatten(map(lambda reduce_input_group: REDUCE(*reduce_input_group), reduce_partition[1]))), reduce_partitions)\n",
    "  \n",
    "  print(\"{} key-value pairs were sent over a network.\".format(sum([len(vs) for (k,vs) in flatten([partition for (partition_id, partition) in reduce_partitions])])))\n",
    "  return reduce_outputs"
   ]
  },
  {
   "cell_type": "markdown",
   "metadata": {
    "id": "kxirlf3XqZxY"
   },
   "source": [
    "## Спецификация MapReduce Distributed\n",
    "\n",
    "\n",
    "```\n",
    "f (k1, v1) -> (k2,v2)*\n",
    "g (k2, v2*) -> (k3,v3)*\n",
    " \n",
    "e1 (k1, v1)\n",
    "e2 (k2, v2)\n",
    "partition1 (k2, v2)*\n",
    "partition2 (k2, v2*)*\n",
    " \n",
    "flatmap (e1->e2*, e1*) -> partition1*\n",
    "groupby (partition1*) -> partition2*\n",
    "\n",
    "mapreduce ((k1,v1)*) -> (k3,v3)*\n",
    "mapreduce .flatmap(f).groupby(k2).flatmap(g)\n",
    "```\n",
    "\n"
   ]
  },
  {
   "cell_type": "markdown",
   "metadata": {
    "id": "CWYw_CpbbY3C"
   },
   "source": [
    "## WordCount "
   ]
  },
  {
   "cell_type": "code",
   "execution_count": 83,
   "metadata": {
    "colab": {
     "base_uri": "https://localhost:8080/",
     "height": 68
    },
    "id": "uR_zfGFkMZlp",
    "outputId": "c8d46167-473d-43b9-881a-2396991b3731"
   },
   "outputs": [
    {
     "name": "stdout",
     "output_type": "stream",
     "text": [
      "56 key-value pairs were sent over a network.\n"
     ]
    },
    {
     "data": {
      "text/plain": [
       "[(0, [('', 6), ('a', 2), ('banana', 2)]),\n",
       " (1, [('is', 18), ('it', 18), ('what', 10)])]"
      ]
     },
     "execution_count": 83,
     "metadata": {},
     "output_type": "execute_result"
    }
   ],
   "source": [
    "from typing import Iterator\n",
    "import numpy as np\n",
    "\n",
    "d1 = \"\"\"\n",
    "it is what it is\n",
    "it is what it is\n",
    "it is what it is\"\"\"\n",
    "d2 = \"\"\"\n",
    "what is it\n",
    "what is it\"\"\"\n",
    "d3 = \"\"\"\n",
    "it is a banana\"\"\"\n",
    "documents = [d1, d2, d3, d1, d2, d3]\n",
    "\n",
    "maps = 3\n",
    "reducers = 2\n",
    "\n",
    "def INPUTFORMAT():\n",
    "  global maps\n",
    "  \n",
    "  def RECORDREADER(split):\n",
    "    for (docid, document) in enumerate(split):\n",
    "      for (lineid, line) in enumerate(document.split('\\n')):\n",
    "        yield (\"{}:{}\".format(docid,lineid), line)\n",
    "      \n",
    "  split_size =  int(np.ceil(len(documents)/maps))\n",
    "  for i in range(0, len(documents), split_size):\n",
    "    yield RECORDREADER(documents[i:i+split_size])\n",
    "\n",
    "def MAP(docId:str, line:str):\n",
    "  for word in line.split(\" \"):  \n",
    "    yield (word, 1)\n",
    " \n",
    "def REDUCE(word:str, counts:Iterator[int]):\n",
    "  sum = 0\n",
    "  for c in counts:\n",
    "    sum += c\n",
    "  yield (word, sum)\n",
    "  \n",
    "# try to set COMBINER=REDUCER and look at the number of values sent over the network \n",
    "partitioned_output = MapReduceDistributed(INPUTFORMAT, MAP, REDUCE, COMBINER=None) \n",
    "partitioned_output = [(partition_id, list(partition)) for (partition_id, partition) in partitioned_output]\n",
    "partitioned_output"
   ]
  },
  {
   "cell_type": "markdown",
   "metadata": {
    "id": "gCJGx8IQ87xS"
   },
   "source": [
    "## TeraSort"
   ]
  },
  {
   "cell_type": "code",
   "execution_count": 84,
   "metadata": {
    "colab": {
     "base_uri": "https://localhost:8080/",
     "height": 578
    },
    "id": "P2v8v1v_8_YR",
    "outputId": "e0987c25-9757-46cb-8e55-d5d2adfbee2b"
   },
   "outputs": [
    {
     "name": "stdout",
     "output_type": "stream",
     "text": [
      "30 key-value pairs were sent over a network.\n"
     ]
    },
    {
     "data": {
      "text/plain": [
       "[(0,\n",
       "  [(None, np.float64(0.06920559836052276)),\n",
       "   (None, np.float64(0.12173216900865103)),\n",
       "   (None, np.float64(0.1817042128829388)),\n",
       "   (None, np.float64(0.19325109668025076)),\n",
       "   (None, np.float64(0.321116136827419)),\n",
       "   (None, np.float64(0.3337349779353528)),\n",
       "   (None, np.float64(0.33996819941232126)),\n",
       "   (None, np.float64(0.3586860630572992)),\n",
       "   (None, np.float64(0.3788337414780564)),\n",
       "   (None, np.float64(0.4361854996078356)),\n",
       "   (None, np.float64(0.4451172957402918)),\n",
       "   (None, np.float64(0.4509811711198375)),\n",
       "   (None, np.float64(0.46371469226215334)),\n",
       "   (None, np.float64(0.4742749393390585)),\n",
       "   (None, np.float64(0.4851347551574403))]),\n",
       " (1,\n",
       "  [(None, np.float64(0.5047026433140964)),\n",
       "   (None, np.float64(0.524412698043214)),\n",
       "   (None, np.float64(0.5604990166947471)),\n",
       "   (None, np.float64(0.5643477871275202)),\n",
       "   (None, np.float64(0.5858708108576638)),\n",
       "   (None, np.float64(0.6130182552059563)),\n",
       "   (None, np.float64(0.6248498659322991)),\n",
       "   (None, np.float64(0.717474501024806)),\n",
       "   (None, np.float64(0.7385624492404272)),\n",
       "   (None, np.float64(0.7594665888521429)),\n",
       "   (None, np.float64(0.7712744075534493)),\n",
       "   (None, np.float64(0.8791432827125107)),\n",
       "   (None, np.float64(0.8793253492387066)),\n",
       "   (None, np.float64(0.9337937005942025)),\n",
       "   (None, np.float64(0.974872015105029))])]"
      ]
     },
     "execution_count": 84,
     "metadata": {},
     "output_type": "execute_result"
    }
   ],
   "source": [
    "import numpy as np\n",
    "\n",
    "input_values = np.random.rand(30)\n",
    "maps = 3\n",
    "reducers = 2\n",
    "min_value = 0.0\n",
    "max_value = 1.0\n",
    "\n",
    "def INPUTFORMAT():\n",
    "  global maps\n",
    "  \n",
    "  def RECORDREADER(split):\n",
    "    for value in split:\n",
    "        yield (value, None)\n",
    "      \n",
    "  split_size =  int(np.ceil(len(input_values)/maps))\n",
    "  for i in range(0, len(input_values), split_size):\n",
    "    yield RECORDREADER(input_values[i:i+split_size])\n",
    "    \n",
    "def MAP(value:int, _):\n",
    "  yield (value, None)\n",
    "  \n",
    "def PARTITIONER(key):\n",
    "  global reducers\n",
    "  global max_value\n",
    "  global min_value\n",
    "  bucket_size = (max_value-min_value)/reducers\n",
    "  bucket_id = 0\n",
    "  while((key>(bucket_id+1)*bucket_size) and ((bucket_id+1)*bucket_size<max_value)):\n",
    "    bucket_id += 1\n",
    "  return bucket_id\n",
    "\n",
    "def REDUCE(value:int, _):\n",
    "  yield (None,value)\n",
    "  \n",
    "partitioned_output = MapReduceDistributed(INPUTFORMAT, MAP, REDUCE, COMBINER=None, PARTITIONER=PARTITIONER)\n",
    "partitioned_output = [(partition_id, list(partition)) for (partition_id, partition) in partitioned_output]\n",
    "partitioned_output"
   ]
  },
  {
   "cell_type": "code",
   "execution_count": null,
   "metadata": {
    "id": "MQhoJaVZI93G"
   },
   "outputs": [],
   "source": []
  },
  {
   "cell_type": "markdown",
   "metadata": {
    "id": "Iy65YJTH99iT"
   },
   "source": [
    "# Упражнения\n",
    "Упражнения взяты из Rajaraman A., Ullman J. D. Mining of massive datasets. – Cambridge University Press, 2011.\n",
    "\n",
    "\n",
    "Для выполнения заданий переопределите функции RECORDREADER, MAP, REDUCE. Для модели распределённой системы может потребоваться переопределение функций PARTITION и COMBINER."
   ]
  },
  {
   "cell_type": "markdown",
   "metadata": {
    "id": "cfvAeZm3S8S8"
   },
   "source": [
    "### Максимальное значение ряда\n",
    "\n",
    "Разработайте MapReduce алгоритм, который находит максимальное число входного списка чисел."
   ]
  },
  {
   "cell_type": "code",
   "execution_count": 85,
   "metadata": {},
   "outputs": [],
   "source": [
    "import csv\n",
    "from typing import NamedTuple\n",
    "import pandas as pd\n",
    "\n",
    "class Station(NamedTuple):\n",
    "    id: int\n",
    "    name: str\n",
    "    lat: float\n",
    "    long: float\n",
    "    dock_count: int\n",
    "    city: str\n",
    "    installation_date: str\n",
    "\n",
    "df = pd.read_csv(\"C:/Users/L/Downloads/stations.csv\")\n",
    "\n",
    "input_collection = [\n",
    "    Station(row.id, row.name, row.lat, row.long, row.dock_count, row.city, row.installation_date)\n",
    "    for row in df.itertuples(index=False)\n",
    "]"
   ]
  },
  {
   "cell_type": "code",
   "execution_count": 86,
   "metadata": {},
   "outputs": [
    {
     "data": {
      "text/plain": [
       "[Station(id=2, name='San Jose Diridon Caltrain Station', lat=37.329732, long=-121.901782, dock_count=27, city='San Jose', installation_date='8/6/2013')]"
      ]
     },
     "execution_count": 86,
     "metadata": {},
     "output_type": "execute_result"
    }
   ],
   "source": [
    "# Ищем станцию с максимальным количеством парковочных мест\n",
    "def RECORDREADER():\n",
    "    return [(station.id, station) for station in input_collection]\n",
    "\n",
    "def MAP_MAX(_, row:NamedTuple):\n",
    "    yield (0, row)\n",
    "\n",
    "def REDUCE_MAX(_, rows:Iterator[NamedTuple]):\n",
    "    max_station = 0\n",
    "    station = None\n",
    "    for row in rows:\n",
    "        if row.dock_count > max_station:\n",
    "            max_station = row.dock_count\n",
    "            station = row\n",
    "    yield station\n",
    "\n",
    "output = MapReduce(RECORDREADER, MAP_MAX, REDUCE_MAX)\n",
    "output = list(output)\n",
    "output"
   ]
  },
  {
   "cell_type": "markdown",
   "metadata": {
    "id": "k86bXnqZTk-U"
   },
   "source": [
    "### Арифметическое среднее\n",
    "\n",
    "Разработайте MapReduce алгоритм, который находит арифметическое среднее.\n",
    "\n",
    "$$\\overline{X} = \\frac{1}{n}\\sum_{i=0}^{n} x_i$$\n"
   ]
  },
  {
   "cell_type": "code",
   "execution_count": 87,
   "metadata": {
    "id": "MPoY5pkfUNZf"
   },
   "outputs": [
    {
     "data": {
      "text/plain": [
       "[17.65714285714286]"
      ]
     },
     "execution_count": 87,
     "metadata": {},
     "output_type": "execute_result"
    }
   ],
   "source": [
    "# Ищем арифтметическое среднее для парковочных мест на станции\n",
    "def RECORDREADER():\n",
    "    return [(station.id, station) for station in input_collection]\n",
    "\n",
    "def MAP_AVG(_, row:NamedTuple):\n",
    "    yield (0, row)\n",
    "\n",
    "def REDUCE_AVG(_, rows:Iterator[NamedTuple]):\n",
    "  sum = 0\n",
    "  count = 0\n",
    "  for row in rows:\n",
    "    sum += row.dock_count\n",
    "    count += 1\n",
    "  if (count > 0):\n",
    "    yield sum/count\n",
    "  else:\n",
    "    yield 0\n",
    "      \n",
    "output = MapReduce(RECORDREADER, MAP_AVG, REDUCE_AVG)\n",
    "output = list(output)\n",
    "output"
   ]
  },
  {
   "cell_type": "markdown",
   "metadata": {
    "id": "xanzszhsIlLe"
   },
   "source": [
    "### GroupByKey на основе сортировки\n",
    "\n",
    "Реализуйте groupByKey на основе сортировки, проверьте его работу на примерах"
   ]
  },
  {
   "cell_type": "code",
   "execution_count": 88,
   "metadata": {},
   "outputs": [
    {
     "data": {
      "text/plain": [
       "[Station(id=2, name='San Jose Diridon Caltrain Station', lat=37.329732, long=-121.901782, dock_count=27, city='San Jose', installation_date='8/6/2013'),\n",
       " Station(id=22, name='Redwood City Caltrain Station', lat=37.486078000000006, long=-122.232089, dock_count=25, city='Redwood City', installation_date='8/15/2013'),\n",
       " Station(id=28, name='Mountain View Caltrain Station', lat=37.394358, long=-122.07671299999998, dock_count=23, city='Mountain View', installation_date='8/15/2013'),\n",
       " Station(id=34, name='Palo Alto Caltrain Station', lat=37.443988, long=-122.164759, dock_count=23, city='Palo Alto', installation_date='8/14/2013'),\n",
       " Station(id=61, name='2nd at Townsend', lat=37.780526, long=-122.39028799999998, dock_count=27, city='San Francisco', installation_date='8/22/2013')]"
      ]
     },
     "execution_count": 88,
     "metadata": {},
     "output_type": "execute_result"
    }
   ],
   "source": [
    "# Ищем в каждом городе станцию с максимальным количеством парковочных мест\n",
    "def RECORDREADER():\n",
    "    return [(station.id, station) for station in input_collection]\n",
    "\n",
    "def MAP_MAX(_, row:NamedTuple):\n",
    "    yield (row.city, row)\n",
    "\n",
    "def REDUCE_MAX(_, rows:Iterator[NamedTuple]):\n",
    "    max_station = 0\n",
    "    station = None\n",
    "    for row in rows:\n",
    "        if row.dock_count > max_station:\n",
    "            max_station = row.dock_count\n",
    "            station = row\n",
    "    yield station\n",
    "    \n",
    "def flatten(nested_iterable):\n",
    "  for iterable in nested_iterable:\n",
    "    for element in iterable:\n",
    "      yield element\n",
    "\n",
    "def groupbykey(iterable):\n",
    "  t = {}\n",
    "  for (k2, v2) in iterable:\n",
    "    t[k2] = t.get(k2, []) + [v2]\n",
    "  return t.items()\n",
    "\n",
    "def MapReduce(RECORDREADER, MAP, REDUCE):\n",
    "  return flatten(map(lambda x: REDUCE(*x), groupbykey(flatten(map(lambda x: MAP(*x), RECORDREADER())))))\n",
    "\n",
    "output = MapReduce(RECORDREADER, MAP_MAX, REDUCE_MAX)\n",
    "output = list(output)\n",
    "output\n"
   ]
  },
  {
   "cell_type": "markdown",
   "metadata": {
    "id": "5SgEjCZyGnu6"
   },
   "source": [
    "### Drop duplicates (set construction, unique elements, distinct)\n",
    "\n",
    "Реализуйте распределённую операцию исключения дубликатов"
   ]
  },
  {
   "cell_type": "code",
   "execution_count": 89,
   "metadata": {
    "id": "okjbyApjGhMt"
   },
   "outputs": [
    {
     "name": "stdout",
     "output_type": "stream",
     "text": [
      "73 key-value pairs were sent over a network.\n",
      " Уникальных станций после удаления дубликатов: 70\n"
     ]
    }
   ],
   "source": [
    "# Добавим дубликаты чтобы проверить функцию\n",
    "input_collection += input_collection[:2]\n",
    "input_collection += [input_collection[0]]\n",
    "\n",
    "maps = 2\n",
    "reducers = 2\n",
    "\n",
    "def INPUTFORMAT():\n",
    "    global maps\n",
    "\n",
    "    def RECORDREADER(split):\n",
    "        for station in split:\n",
    "            yield (station.id, station)\n",
    "\n",
    "    split_size = int(np.ceil(len(input_collection) / maps))\n",
    "    for i in range(0, len(input_collection), split_size):\n",
    "        yield RECORDREADER(input_collection[i:i + split_size])\n",
    "\n",
    "def MAP(_, station: Station):\n",
    "    yield (station, None)\n",
    "\n",
    "def REDUCE(station: Station, _):\n",
    "    yield station\n",
    "    \n",
    "partitioned_output = MapReduceDistributed(INPUTFORMAT, MAP, REDUCE, COMBINER=None) \n",
    "partitioned_output = [(partition_id, list(partition)) for (partition_id, partition) in partitioned_output]\n",
    "unique_count = sum(len(partition) for _, partition in partitioned_output)\n",
    "print(f\" Уникальных станций после удаления дубликатов: {unique_count}\")"
   ]
  },
  {
   "cell_type": "markdown",
   "metadata": {
    "id": "e7sRGoTXuJze"
   },
   "source": [
    "### Операторы реляционной алгебры\n",
    "### Selection (Выборка)\n",
    "\n",
    "**The Map Function**: Для  каждого кортежа $t \\in R$ вычисляется истинность предиката $C$. В случае истины создаётся пара ключ-значение $(t, t)$. В паре ключ и значение одинаковы, равны $t$.\n",
    "\n",
    "**The Reduce Function:** Роль функции Reduce выполняет функция идентичности, которая возвращает то же значение, что получила на вход.\n",
    "\n"
   ]
  },
  {
   "cell_type": "code",
   "execution_count": 90,
   "metadata": {
    "id": "4nKIKe59uIfc"
   },
   "outputs": [
    {
     "data": {
      "text/plain": [
       "[(41,\n",
       "  [Station(id=41, name='Clay at Battery', lat=37.795001, long=-122.39997, dock_count=15, city='San Francisco', installation_date='8/19/2013')]),\n",
       " (42,\n",
       "  [Station(id=42, name='Davis at Jackson', lat=37.79728, long=-122.398436, dock_count=15, city='San Francisco', installation_date='8/19/2013')]),\n",
       " (45,\n",
       "  [Station(id=45, name='Commercial at Montgomery', lat=37.794231, long=-122.402923, dock_count=15, city='San Francisco', installation_date='8/19/2013')]),\n",
       " (46,\n",
       "  [Station(id=46, name='Washington at Kearney', lat=37.795425, long=-122.404767, dock_count=15, city='San Francisco', installation_date='8/19/2013')]),\n",
       " (47,\n",
       "  [Station(id=47, name='Post at Kearney', lat=37.788975, long=-122.403452, dock_count=19, city='San Francisco', installation_date='8/19/2013')]),\n",
       " (48,\n",
       "  [Station(id=48, name='Embarcadero at Vallejo', lat=37.799953, long=-122.398525, dock_count=15, city='San Francisco', installation_date='8/19/2013')]),\n",
       " (49,\n",
       "  [Station(id=49, name='Spear at Folsom', lat=37.790302, long=-122.390637, dock_count=19, city='San Francisco', installation_date='8/20/2013')]),\n",
       " (50,\n",
       "  [Station(id=50, name='Harry Bridges Plaza (Ferry Building)', lat=37.795392, long=-122.394203, dock_count=23, city='San Francisco', installation_date='8/20/2013')]),\n",
       " (51,\n",
       "  [Station(id=51, name='Embarcadero at Folsom', lat=37.791464000000005, long=-122.391034, dock_count=19, city='San Francisco', installation_date='8/20/2013')]),\n",
       " (39,\n",
       "  [Station(id=39, name='Powell Street BART', lat=37.783871000000005, long=-122.408433, dock_count=19, city='San Francisco', installation_date='8/25/2013')]),\n",
       " (54,\n",
       "  [Station(id=54, name='Embarcadero at Bryant', lat=37.787152, long=-122.388013, dock_count=15, city='San Francisco', installation_date='8/20/2013')]),\n",
       " (55,\n",
       "  [Station(id=55, name='Temporary Transbay Terminal (Howard at Beale)', lat=37.789756, long=-122.394643, dock_count=23, city='San Francisco', installation_date='8/20/2013')]),\n",
       " (56,\n",
       "  [Station(id=56, name='Beale at Market', lat=37.792251, long=-122.39708600000002, dock_count=19, city='San Francisco', installation_date='8/20/2013')]),\n",
       " (57,\n",
       "  [Station(id=57, name='5th at Howard', lat=37.781752, long=-122.405127, dock_count=15, city='San Francisco', installation_date='8/21/2013')]),\n",
       " (58,\n",
       "  [Station(id=58, name='San Francisco City Hall', lat=37.77865, long=-122.418235, dock_count=19, city='San Francisco', installation_date='8/21/2013')]),\n",
       " (59,\n",
       "  [Station(id=59, name='Golden Gate at Polk', lat=37.781332, long=-122.418603, dock_count=23, city='San Francisco', installation_date='8/21/2013')]),\n",
       " (60,\n",
       "  [Station(id=60, name='Embarcadero at Sansome', lat=37.80477, long=-122.403234, dock_count=15, city='San Francisco', installation_date='8/21/2013')]),\n",
       " (61,\n",
       "  [Station(id=61, name='2nd at Townsend', lat=37.780526, long=-122.39028799999998, dock_count=27, city='San Francisco', installation_date='8/22/2013')]),\n",
       " (62,\n",
       "  [Station(id=62, name='2nd at Folsom', lat=37.785299, long=-122.39623600000002, dock_count=19, city='San Francisco', installation_date='8/22/2013')]),\n",
       " (63,\n",
       "  [Station(id=63, name='Howard at 2nd', lat=37.786978000000005, long=-122.398108, dock_count=19, city='San Francisco', installation_date='8/22/2013')]),\n",
       " (64,\n",
       "  [Station(id=64, name='2nd at South Park', lat=37.782259, long=-122.392738, dock_count=15, city='San Francisco', installation_date='8/22/2013')]),\n",
       " (65,\n",
       "  [Station(id=65, name='Townsend at 7th', lat=37.771058, long=-122.402717, dock_count=15, city='San Francisco', installation_date='8/22/2013')]),\n",
       " (66,\n",
       "  [Station(id=66, name='South Van Ness at Market', lat=37.774814, long=-122.418954, dock_count=19, city='San Francisco', installation_date='8/23/2013')]),\n",
       " (67,\n",
       "  [Station(id=67, name='Market at 10th', lat=37.776619, long=-122.417385, dock_count=27, city='San Francisco', installation_date='8/23/2013')]),\n",
       " (68,\n",
       "  [Station(id=68, name='Yerba Buena Center of the Arts (3rd @ Howard)', lat=37.784878000000006, long=-122.401014, dock_count=19, city='San Francisco', installation_date='8/23/2013')]),\n",
       " (69,\n",
       "  [Station(id=69, name='San Francisco Caltrain 2 (330 Townsend)', lat=37.7766, long=-122.39547, dock_count=23, city='San Francisco', installation_date='8/23/2013')]),\n",
       " (70,\n",
       "  [Station(id=70, name='San Francisco Caltrain (Townsend at 4th)', lat=37.776617, long=-122.39526, dock_count=19, city='San Francisco', installation_date='8/23/2013')]),\n",
       " (71,\n",
       "  [Station(id=71, name='Powell at Post (Union Square)', lat=37.788446, long=-122.408499, dock_count=19, city='San Francisco', installation_date='8/23/2013')]),\n",
       " (72,\n",
       "  [Station(id=72, name='Civic Center BART (7th at Market)', lat=37.781039, long=-122.411748, dock_count=23, city='San Francisco', installation_date='8/23/2013')]),\n",
       " (73,\n",
       "  [Station(id=73, name='Grant Avenue at Columbus Avenue', lat=37.798522, long=-122.407245, dock_count=15, city='San Francisco', installation_date='8/21/2013')]),\n",
       " (74,\n",
       "  [Station(id=74, name='Steuart at Market', lat=37.794139, long=-122.394434, dock_count=23, city='San Francisco', installation_date='8/25/2013')]),\n",
       " (75,\n",
       "  [Station(id=75, name='Mechanics Plaza (Market at Battery)', lat=37.7913, long=-122.399051, dock_count=19, city='San Francisco', installation_date='8/25/2013')]),\n",
       " (76,\n",
       "  [Station(id=76, name='Market at 4th', lat=37.786305, long=-122.404966, dock_count=19, city='San Francisco', installation_date='8/25/2013')]),\n",
       " (77,\n",
       "  [Station(id=77, name='Market at Sansome', lat=37.789625, long=-122.400811, dock_count=27, city='San Francisco', installation_date='8/25/2013')]),\n",
       " (82,\n",
       "  [Station(id=82, name='Broadway St at Battery St', lat=37.798541, long=-122.40086200000002, dock_count=15, city='San Francisco', installation_date='1/22/2014')])]"
      ]
     },
     "execution_count": 90,
     "metadata": {},
     "output_type": "execute_result"
    }
   ],
   "source": [
    "# Станции только в городе Сан-Франциско\n",
    "def RECORDREADER():\n",
    "    return [(station.id, station) for station in input_collection]\n",
    "\n",
    "def MAP_SELECT(_, row:NamedTuple):\n",
    "    if row.city == \"San Francisco\":\n",
    "        yield (row.id, row)\n",
    "\n",
    "def REDUCE_SELECT(id:int, rows:Iterator[NamedTuple]):\n",
    "    yield (id, rows)\n",
    "\n",
    "output = MapReduce(RECORDREADER, MAP_SELECT, REDUCE_SELECT)\n",
    "output = list(output)\n",
    "output"
   ]
  },
  {
   "cell_type": "markdown",
   "metadata": {
    "id": "w27Ca-_Ku85V"
   },
   "source": [
    "### Projection (Проекция)\n",
    "\n",
    "Проекция на множество атрибутов $S$.\n",
    "\n",
    "**The Map Function:** Для каждого кортежа $t \\in R$ создайте кортеж $t′$, исключая  из $t$ те значения, атрибуты которых не принадлежат  $S$. Верните пару $(t′, t′)$.\n",
    "\n",
    "**The Reduce Function:** Для каждого ключа $t′$, созданного любой Map задачей, вы получаете одну или несколько пар $(t′, t′)$. Reduce функция преобразует $(t′, [t′, t′, . . . , t′])$ в $(t′, t′)$, так, что для ключа $t′$ возвращается одна пара  $(t′, t′)$."
   ]
  },
  {
   "cell_type": "code",
   "execution_count": 91,
   "metadata": {
    "id": "BEvuY4GqvhS6"
   },
   "outputs": [
    {
     "data": {
      "text/plain": [
       "[(('San Jose Diridon Caltrain Station', 'San Jose'), 2),\n",
       " (('San Jose Civic Center', 'San Jose'), 3),\n",
       " (('Santa Clara at Almaden', 'San Jose'), 4),\n",
       " (('Adobe on Almaden', 'San Jose'), 5),\n",
       " (('San Pedro Square', 'San Jose'), 6),\n",
       " (('Paseo de San Antonio', 'San Jose'), 7),\n",
       " (('San Salvador at 1st', 'San Jose'), 8),\n",
       " (('Japantown', 'San Jose'), 9),\n",
       " (('San Jose City Hall', 'San Jose'), 10),\n",
       " (('MLK Library', 'San Jose'), 11),\n",
       " (('SJSU 4th at San Carlos', 'San Jose'), 12),\n",
       " (('St James Park', 'San Jose'), 13),\n",
       " (('Arena Green / SAP Center', 'San Jose'), 14),\n",
       " (('SJSU - San Salvador at 9th', 'San Jose'), 16),\n",
       " (('Franklin at Maple', 'Redwood City'), 21),\n",
       " (('Redwood City Caltrain Station', 'Redwood City'), 22),\n",
       " (('San Mateo County Center', 'Redwood City'), 23),\n",
       " (('Redwood City Public Library', 'Redwood City'), 24),\n",
       " (('Stanford in Redwood City', 'Redwood City'), 25),\n",
       " (('Redwood City Medical Center', 'Redwood City'), 26),\n",
       " (('Mountain View City Hall', 'Mountain View'), 27),\n",
       " (('Mountain View Caltrain Station', 'Mountain View'), 28),\n",
       " (('San Antonio Caltrain Station', 'Mountain View'), 29),\n",
       " (('Evelyn Park and Ride', 'Mountain View'), 30),\n",
       " (('San Antonio Shopping Center', 'Mountain View'), 31),\n",
       " (('Castro Street and El Camino Real', 'Mountain View'), 32),\n",
       " (('Rengstorff Avenue / California Street', 'Mountain View'), 33),\n",
       " (('Palo Alto Caltrain Station', 'Palo Alto'), 34),\n",
       " (('University and Emerson', 'Palo Alto'), 35),\n",
       " (('California Ave Caltrain Station', 'Palo Alto'), 36),\n",
       " (('Cowper at University', 'Palo Alto'), 37),\n",
       " (('Park at Olive', 'Palo Alto'), 38),\n",
       " (('Clay at Battery', 'San Francisco'), 41),\n",
       " (('Davis at Jackson', 'San Francisco'), 42),\n",
       " (('Commercial at Montgomery', 'San Francisco'), 45),\n",
       " (('Washington at Kearney', 'San Francisco'), 46),\n",
       " (('Post at Kearney', 'San Francisco'), 47),\n",
       " (('Embarcadero at Vallejo', 'San Francisco'), 48),\n",
       " (('Spear at Folsom', 'San Francisco'), 49),\n",
       " (('Harry Bridges Plaza (Ferry Building)', 'San Francisco'), 50),\n",
       " (('Embarcadero at Folsom', 'San Francisco'), 51),\n",
       " (('Powell Street BART', 'San Francisco'), 39),\n",
       " (('Embarcadero at Bryant', 'San Francisco'), 54),\n",
       " (('Temporary Transbay Terminal (Howard at Beale)', 'San Francisco'), 55),\n",
       " (('Beale at Market', 'San Francisco'), 56),\n",
       " (('5th at Howard', 'San Francisco'), 57),\n",
       " (('San Francisco City Hall', 'San Francisco'), 58),\n",
       " (('Golden Gate at Polk', 'San Francisco'), 59),\n",
       " (('Embarcadero at Sansome', 'San Francisco'), 60),\n",
       " (('2nd at Townsend', 'San Francisco'), 61),\n",
       " (('2nd at Folsom', 'San Francisco'), 62),\n",
       " (('Howard at 2nd', 'San Francisco'), 63),\n",
       " (('2nd at South Park', 'San Francisco'), 64),\n",
       " (('Townsend at 7th', 'San Francisco'), 65),\n",
       " (('South Van Ness at Market', 'San Francisco'), 66),\n",
       " (('Market at 10th', 'San Francisco'), 67),\n",
       " (('Yerba Buena Center of the Arts (3rd @ Howard)', 'San Francisco'), 68),\n",
       " (('San Francisco Caltrain 2 (330 Townsend)', 'San Francisco'), 69),\n",
       " (('San Francisco Caltrain (Townsend at 4th)', 'San Francisco'), 70),\n",
       " (('Powell at Post (Union Square)', 'San Francisco'), 71),\n",
       " (('Civic Center BART (7th at Market)', 'San Francisco'), 72),\n",
       " (('Grant Avenue at Columbus Avenue', 'San Francisco'), 73),\n",
       " (('Steuart at Market', 'San Francisco'), 74),\n",
       " (('Mechanics Plaza (Market at Battery)', 'San Francisco'), 75),\n",
       " (('Market at 4th', 'San Francisco'), 76),\n",
       " (('Market at Sansome', 'San Francisco'), 77),\n",
       " (('Santa Clara County Civic Center', 'San Jose'), 80),\n",
       " (('Broadway St at Battery St', 'San Francisco'), 82),\n",
       " (('Mezes Park', 'Redwood City'), 83),\n",
       " (('Ryland Park', 'San Jose'), 84)]"
      ]
     },
     "execution_count": 91,
     "metadata": {},
     "output_type": "execute_result"
    }
   ],
   "source": [
    "S = [\"name\", \"city\"]\n",
    "\n",
    "def RECORDREADER():\n",
    "    return [(station.id, station) for station in input_collection]\n",
    "    \n",
    "def MAP_PROJECT(_, row:NamedTuple):\n",
    "    t_proj = tuple(getattr(row, field) for field in S)\n",
    "    yield (t_proj, row)\n",
    "\n",
    "def REDUCE_PROJECT(t_proj, rows: Iterator[NamedTuple]):\n",
    "    yield (t_proj, rows[0].id)\n",
    "\n",
    "output = MapReduce(RECORDREADER, MAP_PROJECT, REDUCE_PROJECT)\n",
    "output = list(output)\n",
    "output"
   ]
  },
  {
   "cell_type": "markdown",
   "metadata": {
    "id": "7gau6lKXvn2R"
   },
   "source": [
    "### Union (Объединение)\n",
    "\n",
    "**The Map Function:** Превратите каждый входной кортеж $t$ в пару ключ-значение $(t, t)$.\n",
    "\n",
    "**The Reduce Function:** С каждым ключом $t$ будет ассоциировано одно или два значений. В обоих случаях создайте $(t, t)$ в качестве выходного значения."
   ]
  },
  {
   "cell_type": "code",
   "execution_count": 92,
   "metadata": {
    "id": "Sns7a5agv3nw"
   },
   "outputs": [
    {
     "data": {
      "text/plain": [
       "[(2,\n",
       "  [Station(id=2, name='San Jose Diridon Caltrain Station', lat=37.329732, long=-121.901782, dock_count=27, city='San Jose', installation_date='8/6/2013')]),\n",
       " (3,\n",
       "  [Station(id=3, name='San Jose Civic Center', lat=37.330698, long=-121.888979, dock_count=15, city='San Jose', installation_date='8/5/2013')]),\n",
       " (4,\n",
       "  [Station(id=4, name='Santa Clara at Almaden', lat=37.333988, long=-121.894902, dock_count=11, city='San Jose', installation_date='8/6/2013')]),\n",
       " (5,\n",
       "  [Station(id=5, name='Adobe on Almaden', lat=37.331415, long=-121.8932, dock_count=19, city='San Jose', installation_date='8/5/2013'),\n",
       "   Station(id=5, name='Adobe on Almaden', lat=37.331415, long=-121.8932, dock_count=19, city='San Jose', installation_date='8/5/2013')]),\n",
       " (6,\n",
       "  [Station(id=6, name='San Pedro Square', lat=37.336721, long=-121.894074, dock_count=15, city='San Jose', installation_date='8/7/2013'),\n",
       "   Station(id=6, name='San Pedro Square', lat=37.336721, long=-121.894074, dock_count=15, city='San Jose', installation_date='8/7/2013')]),\n",
       " (7,\n",
       "  [Station(id=7, name='Paseo de San Antonio', lat=37.333798, long=-121.886943, dock_count=15, city='San Jose', installation_date='8/7/2013')]),\n",
       " (8,\n",
       "  [Station(id=8, name='San Salvador at 1st', lat=37.330165, long=-121.885831, dock_count=15, city='San Jose', installation_date='8/5/2013')]),\n",
       " (9,\n",
       "  [Station(id=9, name='Japantown', lat=37.348742, long=-121.894715, dock_count=15, city='San Jose', installation_date='8/5/2013')])]"
      ]
     },
     "execution_count": 92,
     "metadata": {},
     "output_type": "execute_result"
    }
   ],
   "source": [
    "# Находим объединение двух пересекающихся датасетов\n",
    "dataset1 = input_collection[:5]\n",
    "dataset2 = input_collection[3:8]\n",
    "\n",
    "def RECORDREADER():\n",
    "    return [(station.id, station) for station in dataset1] + [(station.id, station) for station in dataset2]\n",
    "\n",
    "def MAP_UNION(_, row: NamedTuple):\n",
    "    yield (row.id, row)\n",
    "\n",
    "def REDUCE_UNION(id: int, rows: Iterator[NamedTuple]):\n",
    "    yield (id, rows)\n",
    "\n",
    "output = MapReduce(RECORDREADER, MAP_UNION, REDUCE_UNION)\n",
    "output = list(output)\n",
    "output"
   ]
  },
  {
   "cell_type": "markdown",
   "metadata": {
    "id": "dQ8TuEbjv4J8"
   },
   "source": [
    "### Intersection (Пересечение)\n",
    "\n",
    "**The Map Function:** Превратите каждый кортеж $t$ в пары ключ-значение $(t, t)$.\n",
    "\n",
    "**The Reduce Function:** Если для ключа $t$ есть список из двух элементов $[t, t]$ $-$ создайте пару $(t, t)$. Иначе, ничего не создавайте."
   ]
  },
  {
   "cell_type": "code",
   "execution_count": 93,
   "metadata": {
    "id": "XKlBZh4IwERR"
   },
   "outputs": [
    {
     "data": {
      "text/plain": [
       "[(5,\n",
       "  [Station(id=5, name='Adobe on Almaden', lat=37.331415, long=-121.8932, dock_count=19, city='San Jose', installation_date='8/5/2013'),\n",
       "   Station(id=5, name='Adobe on Almaden', lat=37.331415, long=-121.8932, dock_count=19, city='San Jose', installation_date='8/5/2013')]),\n",
       " (6,\n",
       "  [Station(id=6, name='San Pedro Square', lat=37.336721, long=-121.894074, dock_count=15, city='San Jose', installation_date='8/7/2013'),\n",
       "   Station(id=6, name='San Pedro Square', lat=37.336721, long=-121.894074, dock_count=15, city='San Jose', installation_date='8/7/2013')])]"
      ]
     },
     "execution_count": 93,
     "metadata": {},
     "output_type": "execute_result"
    }
   ],
   "source": [
    "# Находим пересечение двух пересекающихся датасетов\n",
    "dataset1 = input_collection[:5]\n",
    "dataset2 = input_collection[3:8]\n",
    "\n",
    "def RECORDREADER():\n",
    "    return [(station.id, station) for station in dataset1] + [(station.id, station) for station in dataset2]\n",
    "\n",
    "def MAP_INTERSECTION(_, row: NamedTuple):\n",
    "    yield (row.id, row)\n",
    "\n",
    "def REDUCE_INTERSECTION(id: int, rows: Iterator[NamedTuple]):\n",
    "    if len(rows) == 2:\n",
    "        yield (id, rows)\n",
    "\n",
    "output = MapReduce(RECORDREADER, MAP_INTERSECTION, REDUCE_INTERSECTION)\n",
    "output = list(output)\n",
    "output"
   ]
  },
  {
   "cell_type": "markdown",
   "metadata": {
    "id": "AVOpqoY3wE5k"
   },
   "source": [
    "### Difference (Разница)\n",
    "\n",
    "**The Map Function:** Для кортежа $t \\in R$, создайте пару $(t, R)$, и для кортежа $t \\in S$, создайте пару $(t, S)$. Задумка заключается в том, чтобы значение пары было именем отношения $R$ or $S$, которому принадлежит кортеж (а лучше, единичный бит, по которому можно два отношения различить $R$ or $S$), а не весь набор атрибутов отношения.\n",
    "\n",
    "**The Reduce Function:** Для каждого ключа $t$, если соответствующее значение является списком $[R]$, создайте пару $(t, t)$. В иных случаях не предпринимайте действий."
   ]
  },
  {
   "cell_type": "code",
   "execution_count": 94,
   "metadata": {
    "id": "QE_AC09lwZIZ"
   },
   "outputs": [
    {
     "data": {
      "text/plain": [
       "[Station(id=7, name='Paseo de San Antonio', lat=37.333798, long=-121.886943, dock_count=15, city='San Jose', installation_date='8/7/2013'),\n",
       " Station(id=8, name='San Salvador at 1st', lat=37.330165, long=-121.885831, dock_count=15, city='San Jose', installation_date='8/5/2013'),\n",
       " Station(id=9, name='Japantown', lat=37.348742, long=-121.894715, dock_count=15, city='San Jose', installation_date='8/5/2013')]"
      ]
     },
     "execution_count": 94,
     "metadata": {},
     "output_type": "execute_result"
    }
   ],
   "source": [
    "# Находим разницу двух пересекающихся датасетов\n",
    "dataset1 = input_collection[:5]\n",
    "dataset2 = input_collection[3:8]\n",
    "\n",
    "def RECORDREADER():\n",
    "    return [(1, station) for station in dataset1] + [(2, station) for station in dataset2]\n",
    "\n",
    "def MAP_DIFFERENCE(id:int, row:NamedTuple):\n",
    "    yield (row, id)\n",
    "\n",
    "def REDUCE_DIFFERENCE(rows: Iterator[NamedTuple], ids: int):\n",
    "    if ids == [2]:\n",
    "        yield rows\n",
    "\n",
    "output = MapReduce(RECORDREADER, MAP_DIFFERENCE, REDUCE_DIFFERENCE)\n",
    "output = list(output)\n",
    "output"
   ]
  },
  {
   "cell_type": "markdown",
   "metadata": {
    "id": "j8I58V2VwhSm"
   },
   "source": [
    "### Natural Join\n",
    "\n",
    "**The Map Function:** Для каждого кортежа $(a, b)$ отношения $R$, создайте пару $(b,(R, a))$. Для каждого кортежа $(b, c)$ отношения $S$, создайте пару $(b,(S, c))$.\n",
    "\n",
    "**The Reduce Function:** Каждый ключ $b$ будет асоциирован со списком пар, которые принимают форму либо $(R, a)$, либо $(S, c)$. Создайте все пары, одни, состоящие из  первого компонента $R$, а другие, из первого компонента $S$, то есть $(R, a)$ и $(S, c)$. На выходе вы получаете последовательность пар ключ-значение из списков ключей и значений. Ключ не нужен. Каждое значение, это тройка $(a, b, c)$ такая, что $(R, a)$ и $(S, c)$ это принадлежат входному списку значений."
   ]
  },
  {
   "cell_type": "code",
   "execution_count": 95,
   "metadata": {
    "id": "yHiuuTctw86I"
   },
   "outputs": [
    {
     "data": {
      "text/plain": [
       "[(Station(id=2, name='San Jose Diridon Caltrain Station', lat=37.329732, long=-121.901782, dock_count=27, city='San Jose', installation_date='8/6/2013'),\n",
       "  'San Jose',\n",
       "  City(city='San Jose', region='South Bay')),\n",
       " (Station(id=3, name='San Jose Civic Center', lat=37.330698, long=-121.888979, dock_count=15, city='San Jose', installation_date='8/5/2013'),\n",
       "  'San Jose',\n",
       "  City(city='San Jose', region='South Bay')),\n",
       " (Station(id=4, name='Santa Clara at Almaden', lat=37.333988, long=-121.894902, dock_count=11, city='San Jose', installation_date='8/6/2013'),\n",
       "  'San Jose',\n",
       "  City(city='San Jose', region='South Bay')),\n",
       " (Station(id=5, name='Adobe on Almaden', lat=37.331415, long=-121.8932, dock_count=19, city='San Jose', installation_date='8/5/2013'),\n",
       "  'San Jose',\n",
       "  City(city='San Jose', region='South Bay')),\n",
       " (Station(id=6, name='San Pedro Square', lat=37.336721, long=-121.894074, dock_count=15, city='San Jose', installation_date='8/7/2013'),\n",
       "  'San Jose',\n",
       "  City(city='San Jose', region='South Bay')),\n",
       " (Station(id=7, name='Paseo de San Antonio', lat=37.333798, long=-121.886943, dock_count=15, city='San Jose', installation_date='8/7/2013'),\n",
       "  'San Jose',\n",
       "  City(city='San Jose', region='South Bay')),\n",
       " (Station(id=8, name='San Salvador at 1st', lat=37.330165, long=-121.885831, dock_count=15, city='San Jose', installation_date='8/5/2013'),\n",
       "  'San Jose',\n",
       "  City(city='San Jose', region='South Bay')),\n",
       " (Station(id=9, name='Japantown', lat=37.348742, long=-121.894715, dock_count=15, city='San Jose', installation_date='8/5/2013'),\n",
       "  'San Jose',\n",
       "  City(city='San Jose', region='South Bay')),\n",
       " (Station(id=10, name='San Jose City Hall', lat=37.337391, long=-121.886995, dock_count=15, city='San Jose', installation_date='8/6/2013'),\n",
       "  'San Jose',\n",
       "  City(city='San Jose', region='South Bay')),\n",
       " (Station(id=11, name='MLK Library', lat=37.335885, long=-121.88566000000002, dock_count=19, city='San Jose', installation_date='8/6/2013'),\n",
       "  'San Jose',\n",
       "  City(city='San Jose', region='South Bay')),\n",
       " (Station(id=12, name='SJSU 4th at San Carlos', lat=37.332808, long=-121.883891, dock_count=19, city='San Jose', installation_date='8/7/2013'),\n",
       "  'San Jose',\n",
       "  City(city='San Jose', region='South Bay')),\n",
       " (Station(id=13, name='St James Park', lat=37.339301, long=-121.88993700000002, dock_count=15, city='San Jose', installation_date='8/6/2013'),\n",
       "  'San Jose',\n",
       "  City(city='San Jose', region='South Bay')),\n",
       " (Station(id=14, name='Arena Green / SAP Center', lat=37.332692, long=-121.900084, dock_count=19, city='San Jose', installation_date='8/5/2013'),\n",
       "  'San Jose',\n",
       "  City(city='San Jose', region='South Bay')),\n",
       " (Station(id=16, name='SJSU - San Salvador at 9th', lat=37.333955, long=-121.877349, dock_count=15, city='San Jose', installation_date='8/7/2013'),\n",
       "  'San Jose',\n",
       "  City(city='San Jose', region='South Bay')),\n",
       " (Station(id=80, name='Santa Clara County Civic Center', lat=37.352601, long=-121.905733, dock_count=15, city='San Jose', installation_date='12/31/2013'),\n",
       "  'San Jose',\n",
       "  City(city='San Jose', region='South Bay')),\n",
       " (Station(id=84, name='Ryland Park', lat=37.342725, long=-121.895617, dock_count=15, city='San Jose', installation_date='4/9/2014'),\n",
       "  'San Jose',\n",
       "  City(city='San Jose', region='South Bay')),\n",
       " (Station(id=2, name='San Jose Diridon Caltrain Station', lat=37.329732, long=-121.901782, dock_count=27, city='San Jose', installation_date='8/6/2013'),\n",
       "  'San Jose',\n",
       "  City(city='San Jose', region='South Bay')),\n",
       " (Station(id=3, name='San Jose Civic Center', lat=37.330698, long=-121.888979, dock_count=15, city='San Jose', installation_date='8/5/2013'),\n",
       "  'San Jose',\n",
       "  City(city='San Jose', region='South Bay')),\n",
       " (Station(id=2, name='San Jose Diridon Caltrain Station', lat=37.329732, long=-121.901782, dock_count=27, city='San Jose', installation_date='8/6/2013'),\n",
       "  'San Jose',\n",
       "  City(city='San Jose', region='South Bay')),\n",
       " (Station(id=21, name='Franklin at Maple', lat=37.481758, long=-122.226904, dock_count=15, city='Redwood City', installation_date='8/12/2013'),\n",
       "  'Redwood City',\n",
       "  City(city='Redwood City', region='Mid Peninsula')),\n",
       " (Station(id=22, name='Redwood City Caltrain Station', lat=37.486078000000006, long=-122.232089, dock_count=25, city='Redwood City', installation_date='8/15/2013'),\n",
       "  'Redwood City',\n",
       "  City(city='Redwood City', region='Mid Peninsula')),\n",
       " (Station(id=23, name='San Mateo County Center', lat=37.487616, long=-122.229951, dock_count=15, city='Redwood City', installation_date='8/15/2013'),\n",
       "  'Redwood City',\n",
       "  City(city='Redwood City', region='Mid Peninsula')),\n",
       " (Station(id=24, name='Redwood City Public Library', lat=37.484219, long=-122.227424, dock_count=15, city='Redwood City', installation_date='8/12/2013'),\n",
       "  'Redwood City',\n",
       "  City(city='Redwood City', region='Mid Peninsula')),\n",
       " (Station(id=25, name='Stanford in Redwood City', lat=37.48537, long=-122.203288, dock_count=15, city='Redwood City', installation_date='8/12/2013'),\n",
       "  'Redwood City',\n",
       "  City(city='Redwood City', region='Mid Peninsula')),\n",
       " (Station(id=26, name='Redwood City Medical Center', lat=37.487682, long=-122.223492, dock_count=15, city='Redwood City', installation_date='8/12/2013'),\n",
       "  'Redwood City',\n",
       "  City(city='Redwood City', region='Mid Peninsula')),\n",
       " (Station(id=83, name='Mezes Park', lat=37.491269, long=-122.236234, dock_count=15, city='Redwood City', installation_date='2/20/2014'),\n",
       "  'Redwood City',\n",
       "  City(city='Redwood City', region='Mid Peninsula')),\n",
       " (Station(id=27, name='Mountain View City Hall', lat=37.389218, long=-122.081896, dock_count=15, city='Mountain View', installation_date='8/16/2013'),\n",
       "  'Mountain View',\n",
       "  City(city='Mountain View', region='Mid Peninsula')),\n",
       " (Station(id=28, name='Mountain View Caltrain Station', lat=37.394358, long=-122.07671299999998, dock_count=23, city='Mountain View', installation_date='8/15/2013'),\n",
       "  'Mountain View',\n",
       "  City(city='Mountain View', region='Mid Peninsula')),\n",
       " (Station(id=29, name='San Antonio Caltrain Station', lat=37.406940000000006, long=-122.106758, dock_count=23, city='Mountain View', installation_date='8/15/2013'),\n",
       "  'Mountain View',\n",
       "  City(city='Mountain View', region='Mid Peninsula')),\n",
       " (Station(id=30, name='Evelyn Park and Ride', lat=37.390277000000005, long=-122.066553, dock_count=15, city='Mountain View', installation_date='8/16/2013'),\n",
       "  'Mountain View',\n",
       "  City(city='Mountain View', region='Mid Peninsula')),\n",
       " (Station(id=31, name='San Antonio Shopping Center', lat=37.400443, long=-122.108338, dock_count=15, city='Mountain View', installation_date='12/31/2013'),\n",
       "  'Mountain View',\n",
       "  City(city='Mountain View', region='Mid Peninsula')),\n",
       " (Station(id=32, name='Castro Street and El Camino Real', lat=37.385956, long=-122.083678, dock_count=11, city='Mountain View', installation_date='12/31/2013'),\n",
       "  'Mountain View',\n",
       "  City(city='Mountain View', region='Mid Peninsula')),\n",
       " (Station(id=33, name='Rengstorff Avenue / California Street', lat=37.400241, long=-122.099076, dock_count=15, city='Mountain View', installation_date='8/16/2013'),\n",
       "  'Mountain View',\n",
       "  City(city='Mountain View', region='Mid Peninsula')),\n",
       " (Station(id=34, name='Palo Alto Caltrain Station', lat=37.443988, long=-122.164759, dock_count=23, city='Palo Alto', installation_date='8/14/2013'),\n",
       "  'Palo Alto',\n",
       "  City(city='Palo Alto', region='Mid Peninsula')),\n",
       " (Station(id=35, name='University and Emerson', lat=37.444521, long=-122.163093, dock_count=11, city='Palo Alto', installation_date='8/15/2013'),\n",
       "  'Palo Alto',\n",
       "  City(city='Palo Alto', region='Mid Peninsula')),\n",
       " (Station(id=36, name='California Ave Caltrain Station', lat=37.429082, long=-122.142805, dock_count=15, city='Palo Alto', installation_date='8/14/2013'),\n",
       "  'Palo Alto',\n",
       "  City(city='Palo Alto', region='Mid Peninsula')),\n",
       " (Station(id=37, name='Cowper at University', lat=37.448598, long=-122.159504, dock_count=11, city='Palo Alto', installation_date='8/14/2013'),\n",
       "  'Palo Alto',\n",
       "  City(city='Palo Alto', region='Mid Peninsula')),\n",
       " (Station(id=38, name='Park at Olive', lat=37.4256839, long=-122.13777749999998, dock_count=15, city='Palo Alto', installation_date='8/14/2013'),\n",
       "  'Palo Alto',\n",
       "  City(city='Palo Alto', region='Mid Peninsula')),\n",
       " (Station(id=41, name='Clay at Battery', lat=37.795001, long=-122.39997, dock_count=15, city='San Francisco', installation_date='8/19/2013'),\n",
       "  'San Francisco',\n",
       "  City(city='San Francisco', region='North Bay')),\n",
       " (Station(id=42, name='Davis at Jackson', lat=37.79728, long=-122.398436, dock_count=15, city='San Francisco', installation_date='8/19/2013'),\n",
       "  'San Francisco',\n",
       "  City(city='San Francisco', region='North Bay')),\n",
       " (Station(id=45, name='Commercial at Montgomery', lat=37.794231, long=-122.402923, dock_count=15, city='San Francisco', installation_date='8/19/2013'),\n",
       "  'San Francisco',\n",
       "  City(city='San Francisco', region='North Bay')),\n",
       " (Station(id=46, name='Washington at Kearney', lat=37.795425, long=-122.404767, dock_count=15, city='San Francisco', installation_date='8/19/2013'),\n",
       "  'San Francisco',\n",
       "  City(city='San Francisco', region='North Bay')),\n",
       " (Station(id=47, name='Post at Kearney', lat=37.788975, long=-122.403452, dock_count=19, city='San Francisco', installation_date='8/19/2013'),\n",
       "  'San Francisco',\n",
       "  City(city='San Francisco', region='North Bay')),\n",
       " (Station(id=48, name='Embarcadero at Vallejo', lat=37.799953, long=-122.398525, dock_count=15, city='San Francisco', installation_date='8/19/2013'),\n",
       "  'San Francisco',\n",
       "  City(city='San Francisco', region='North Bay')),\n",
       " (Station(id=49, name='Spear at Folsom', lat=37.790302, long=-122.390637, dock_count=19, city='San Francisco', installation_date='8/20/2013'),\n",
       "  'San Francisco',\n",
       "  City(city='San Francisco', region='North Bay')),\n",
       " (Station(id=50, name='Harry Bridges Plaza (Ferry Building)', lat=37.795392, long=-122.394203, dock_count=23, city='San Francisco', installation_date='8/20/2013'),\n",
       "  'San Francisco',\n",
       "  City(city='San Francisco', region='North Bay')),\n",
       " (Station(id=51, name='Embarcadero at Folsom', lat=37.791464000000005, long=-122.391034, dock_count=19, city='San Francisco', installation_date='8/20/2013'),\n",
       "  'San Francisco',\n",
       "  City(city='San Francisco', region='North Bay')),\n",
       " (Station(id=39, name='Powell Street BART', lat=37.783871000000005, long=-122.408433, dock_count=19, city='San Francisco', installation_date='8/25/2013'),\n",
       "  'San Francisco',\n",
       "  City(city='San Francisco', region='North Bay')),\n",
       " (Station(id=54, name='Embarcadero at Bryant', lat=37.787152, long=-122.388013, dock_count=15, city='San Francisco', installation_date='8/20/2013'),\n",
       "  'San Francisco',\n",
       "  City(city='San Francisco', region='North Bay')),\n",
       " (Station(id=55, name='Temporary Transbay Terminal (Howard at Beale)', lat=37.789756, long=-122.394643, dock_count=23, city='San Francisco', installation_date='8/20/2013'),\n",
       "  'San Francisco',\n",
       "  City(city='San Francisco', region='North Bay')),\n",
       " (Station(id=56, name='Beale at Market', lat=37.792251, long=-122.39708600000002, dock_count=19, city='San Francisco', installation_date='8/20/2013'),\n",
       "  'San Francisco',\n",
       "  City(city='San Francisco', region='North Bay')),\n",
       " (Station(id=57, name='5th at Howard', lat=37.781752, long=-122.405127, dock_count=15, city='San Francisco', installation_date='8/21/2013'),\n",
       "  'San Francisco',\n",
       "  City(city='San Francisco', region='North Bay')),\n",
       " (Station(id=58, name='San Francisco City Hall', lat=37.77865, long=-122.418235, dock_count=19, city='San Francisco', installation_date='8/21/2013'),\n",
       "  'San Francisco',\n",
       "  City(city='San Francisco', region='North Bay')),\n",
       " (Station(id=59, name='Golden Gate at Polk', lat=37.781332, long=-122.418603, dock_count=23, city='San Francisco', installation_date='8/21/2013'),\n",
       "  'San Francisco',\n",
       "  City(city='San Francisco', region='North Bay')),\n",
       " (Station(id=60, name='Embarcadero at Sansome', lat=37.80477, long=-122.403234, dock_count=15, city='San Francisco', installation_date='8/21/2013'),\n",
       "  'San Francisco',\n",
       "  City(city='San Francisco', region='North Bay')),\n",
       " (Station(id=61, name='2nd at Townsend', lat=37.780526, long=-122.39028799999998, dock_count=27, city='San Francisco', installation_date='8/22/2013'),\n",
       "  'San Francisco',\n",
       "  City(city='San Francisco', region='North Bay')),\n",
       " (Station(id=62, name='2nd at Folsom', lat=37.785299, long=-122.39623600000002, dock_count=19, city='San Francisco', installation_date='8/22/2013'),\n",
       "  'San Francisco',\n",
       "  City(city='San Francisco', region='North Bay')),\n",
       " (Station(id=63, name='Howard at 2nd', lat=37.786978000000005, long=-122.398108, dock_count=19, city='San Francisco', installation_date='8/22/2013'),\n",
       "  'San Francisco',\n",
       "  City(city='San Francisco', region='North Bay')),\n",
       " (Station(id=64, name='2nd at South Park', lat=37.782259, long=-122.392738, dock_count=15, city='San Francisco', installation_date='8/22/2013'),\n",
       "  'San Francisco',\n",
       "  City(city='San Francisco', region='North Bay')),\n",
       " (Station(id=65, name='Townsend at 7th', lat=37.771058, long=-122.402717, dock_count=15, city='San Francisco', installation_date='8/22/2013'),\n",
       "  'San Francisco',\n",
       "  City(city='San Francisco', region='North Bay')),\n",
       " (Station(id=66, name='South Van Ness at Market', lat=37.774814, long=-122.418954, dock_count=19, city='San Francisco', installation_date='8/23/2013'),\n",
       "  'San Francisco',\n",
       "  City(city='San Francisco', region='North Bay')),\n",
       " (Station(id=67, name='Market at 10th', lat=37.776619, long=-122.417385, dock_count=27, city='San Francisco', installation_date='8/23/2013'),\n",
       "  'San Francisco',\n",
       "  City(city='San Francisco', region='North Bay')),\n",
       " (Station(id=68, name='Yerba Buena Center of the Arts (3rd @ Howard)', lat=37.784878000000006, long=-122.401014, dock_count=19, city='San Francisco', installation_date='8/23/2013'),\n",
       "  'San Francisco',\n",
       "  City(city='San Francisco', region='North Bay')),\n",
       " (Station(id=69, name='San Francisco Caltrain 2 (330 Townsend)', lat=37.7766, long=-122.39547, dock_count=23, city='San Francisco', installation_date='8/23/2013'),\n",
       "  'San Francisco',\n",
       "  City(city='San Francisco', region='North Bay')),\n",
       " (Station(id=70, name='San Francisco Caltrain (Townsend at 4th)', lat=37.776617, long=-122.39526, dock_count=19, city='San Francisco', installation_date='8/23/2013'),\n",
       "  'San Francisco',\n",
       "  City(city='San Francisco', region='North Bay')),\n",
       " (Station(id=71, name='Powell at Post (Union Square)', lat=37.788446, long=-122.408499, dock_count=19, city='San Francisco', installation_date='8/23/2013'),\n",
       "  'San Francisco',\n",
       "  City(city='San Francisco', region='North Bay')),\n",
       " (Station(id=72, name='Civic Center BART (7th at Market)', lat=37.781039, long=-122.411748, dock_count=23, city='San Francisco', installation_date='8/23/2013'),\n",
       "  'San Francisco',\n",
       "  City(city='San Francisco', region='North Bay')),\n",
       " (Station(id=73, name='Grant Avenue at Columbus Avenue', lat=37.798522, long=-122.407245, dock_count=15, city='San Francisco', installation_date='8/21/2013'),\n",
       "  'San Francisco',\n",
       "  City(city='San Francisco', region='North Bay')),\n",
       " (Station(id=74, name='Steuart at Market', lat=37.794139, long=-122.394434, dock_count=23, city='San Francisco', installation_date='8/25/2013'),\n",
       "  'San Francisco',\n",
       "  City(city='San Francisco', region='North Bay')),\n",
       " (Station(id=75, name='Mechanics Plaza (Market at Battery)', lat=37.7913, long=-122.399051, dock_count=19, city='San Francisco', installation_date='8/25/2013'),\n",
       "  'San Francisco',\n",
       "  City(city='San Francisco', region='North Bay')),\n",
       " (Station(id=76, name='Market at 4th', lat=37.786305, long=-122.404966, dock_count=19, city='San Francisco', installation_date='8/25/2013'),\n",
       "  'San Francisco',\n",
       "  City(city='San Francisco', region='North Bay')),\n",
       " (Station(id=77, name='Market at Sansome', lat=37.789625, long=-122.400811, dock_count=27, city='San Francisco', installation_date='8/25/2013'),\n",
       "  'San Francisco',\n",
       "  City(city='San Francisco', region='North Bay')),\n",
       " (Station(id=82, name='Broadway St at Battery St', lat=37.798541, long=-122.40086200000002, dock_count=15, city='San Francisco', installation_date='1/22/2014'),\n",
       "  'San Francisco',\n",
       "  City(city='San Francisco', region='North Bay'))]"
      ]
     },
     "execution_count": 95,
     "metadata": {},
     "output_type": "execute_result"
    }
   ],
   "source": [
    "class City(NamedTuple):\n",
    "  city: str\n",
    "  region: str\n",
    "    \n",
    "city_collection = [\n",
    "    City(city=\"San Jose\", region=\"South Bay\"),\n",
    "    City(city=\"San Francisco\", region=\"North Bay\"),\n",
    "    City(city=\"Mountain View\", region=\"Mid Peninsula\"),\n",
    "    City(city=\"Palo Alto\", region=\"Mid Peninsula\"),\n",
    "    City(city=\"Redwood City\", region=\"Mid Peninsula\")\n",
    "]\n",
    "\n",
    "def RECORDREADER():\n",
    "    return [(station.city, station) for station in input_collection] + [(city.city, city) for city in city_collection]\n",
    "\n",
    "def MAP_NJOIN(city, row:NamedTuple):\n",
    "    yield (city, row)\n",
    "\n",
    "def REDUCE_NJOIN(city, rows:Iterator[NamedTuple]):\n",
    "    city = None\n",
    "    for row in rows:\n",
    "        if type(row) is City:\n",
    "            city = row\n",
    "\n",
    "    for row in rows:\n",
    "        if type(row) is Station:\n",
    "            yield (row, row.city, city)\n",
    "\n",
    "\n",
    "output = MapReduce(RECORDREADER, MAP_NJOIN, REDUCE_NJOIN)\n",
    "output = list(output)\n",
    "njoin = output\n",
    "output"
   ]
  },
  {
   "cell_type": "markdown",
   "metadata": {
    "id": "kYdlr0YUxE27"
   },
   "source": [
    "### Grouping and Aggregation (Группировка и аггрегация)\n",
    "\n",
    "**The Map Function:** Для каждого кортежа $(a, b, c$) создайте пару $(a, b)$.\n",
    "\n",
    "**The Reduce Function:** Ключ представляет ту или иную группу. Примение аггрегирующую операцию $\\theta$ к списку значений $[b1, b2, . . . , bn]$ ассоциированных с ключом $a$. Возвращайте в выходной поток $(a, x)$, где $x$ результат применения  $\\theta$ к списку. Например, если $\\theta$ это $SUM$, тогда $x = b1 + b2 + · · · + bn$, а если $\\theta$ is $MAX$, тогда $x$ это максимальное из значений $b1, b2, . . . , bn$."
   ]
  },
  {
   "cell_type": "code",
   "execution_count": 96,
   "metadata": {
    "id": "MLPckfEGxico"
   },
   "outputs": [
    {
     "data": {
      "text/plain": [
       "[('South Bay', 17.526315789473685),\n",
       " ('Mid Peninsula', 16.157894736842106),\n",
       " ('North Bay', 19.0)]"
      ]
     },
     "execution_count": 96,
     "metadata": {},
     "output_type": "execute_result"
    }
   ],
   "source": [
    "# Находим среднее число парковочных мест по региону\n",
    "def RECORDREADER():\n",
    "    return njoin\n",
    "\n",
    "def MAP_GROUP(station: Station, city_name: str, city: City):\n",
    "    yield (city.region, station.dock_count)\n",
    "\n",
    "def REDUCE_GROUP(region, counts: Iterator[int]):\n",
    "    counts = list(counts)\n",
    "    avg = sum(counts) / len(counts) if counts else 0\n",
    "    yield (region, avg)\n",
    "\n",
    "output = MapReduce(RECORDREADER, MAP_GROUP, REDUCE_GROUP)\n",
    "output = list(output)\n",
    "output"
   ]
  },
  {
   "cell_type": "markdown",
   "metadata": {
    "id": "IIrRgvG4RIS4"
   },
   "source": [
    "### Matrix-Vector multiplication\n",
    "\n",
    "Случай, когда вектор не помещается в памяти Map задачи\n"
   ]
  },
  {
   "cell_type": "code",
   "execution_count": 97,
   "metadata": {
    "id": "KQhDbiL3zS9r"
   },
   "outputs": [
    {
     "data": {
      "text/plain": [
       "[(0, [array([ 5, 23, 41])]),\n",
       " (1, [array([ 25,  67, 109])]),\n",
       " (2, [array([ 61, 127, 193])])]"
      ]
     },
     "execution_count": 97,
     "metadata": {},
     "output_type": "execute_result"
    }
   ],
   "source": [
    "mat = np.array([[1, 2, 3, 4, 5, 6],\n",
    "                [7, 8, 9, 10, 11, 12],\n",
    "                [13, 14, 15, 16, 17, 18]])\n",
    "\n",
    "\n",
    "vec = np.array([1, 2, 3, 4, 5, 6])\n",
    "\n",
    "stripe_width = 2\n",
    "stripes_num = int(len(mat[0])/stripe_width)\n",
    "\n",
    "def RECORDREADER():\n",
    "  a = 0\n",
    "  b = stripe_width\n",
    "  for s in range(stripes_num):\n",
    "    stripe_mat = mat[:,a:b]\n",
    "    stripe_vec = vec[a:b]\n",
    "    a += stripe_width\n",
    "    b += stripe_width\n",
    "    yield (s ,(stripe_mat, stripe_vec))\n",
    "\n",
    "def MAP(num, stripe):\n",
    "  yield (num, stripe[0] @ stripe[1])\n",
    "\n",
    "def REDUCE(num, results):\n",
    "  yield (num, results)\n",
    "\n",
    "output = MapReduce(RECORDREADER, MAP, REDUCE)\n",
    "output = list(output)\n",
    "output"
   ]
  },
  {
   "cell_type": "code",
   "execution_count": 98,
   "metadata": {},
   "outputs": [
    {
     "data": {
      "text/plain": [
       "array([ 91, 217, 343])"
      ]
     },
     "execution_count": 98,
     "metadata": {},
     "output_type": "execute_result"
    }
   ],
   "source": [
    "result = np.sum([v[1][0] for v in output], axis=0)\n",
    "result"
   ]
  },
  {
   "cell_type": "markdown",
   "metadata": {
    "id": "GIo2t7nNxvA9"
   },
   "source": [
    "## Matrix multiplication (Перемножение матриц)\n",
    "\n",
    "Если у нас есть матрица $M$ с элементами $m_{ij}$ в строке $i$ и столбце $j$, и матрица $N$ с элементами $n_{jk}$ в строке $j$ и столбце $k$, тогда их произведение $P = MN$ есть матрица $P$ с элементами $p_{ik}$ в строке $i$ и столбце $k$, где\n",
    "\n",
    "$$p_{ik} =\\sum_{j} m_{ij}n_{jk}$$\n",
    "\n",
    "Необходимым требованием является одинаковое количество столбцов в $M$ и строк в $N$, чтобы операция суммирования по  $j$ была осмысленной. Мы можем размышлять о матрице, как об отношении с тремя атрибутами: номер строки, номер столбца, само значение. Таким образом матрица $M$ предстваляется как отношение $ M(I, J, V )$, с кортежами $(i, j, m_{ij})$, и, аналогично, матрица $N$ представляется как отношение $N(J, K, W)$, с кортежами $(j, k, n_{jk})$. Так как большие матрицы как правило разреженные (большинство значений равно 0), и так как мы можем нулевыми значениями пренебречь (не хранить), такое реляционное представление достаточно эффективно для больших матриц. Однако, возможно, что координаты $i$, $j$, и $k$ неявно закодированы в смещение позиции элемента относительно начала файла, вместо явного хранения. Тогда, функция Map (или Reader) должна быть разработана таким образом, чтобы реконструировать компоненты $I$, $J$, и $K$ кортежей из смещения.\n",
    "\n",
    "Произведение $MN$ это фактически join, за которым следуют группировка по ключу и аггрегация. Таким образом join отношений $M(I, J, V )$ и $N(J, K, W)$, имеющих общим только атрибут $J$, создаст кортежи $(i, j, k, v, w)$ из каждого кортежа $(i, j, v) \\in M$ и кортежа $(j, k, w) \\in N$. Такой 5 компонентный кортеж представляет пару элементов матрицы $(m_{ij} , n_{jk})$. Что нам хотелось бы получить на самом деле, это произведение этих элементов, то есть, 4 компонентный кортеж$(i, j, k, v \\times w)$, так как он представляет произведение $m_{ij}n_{jk}$. Мы представляем отношение как результат одной MapReduce операции, в которой мы можем произвести группировку и аггрегацию, с $I$ и $K$  атрибутами, по которым идёт группировка, и суммой  $V \\times W$. \n",
    "\n",
    "\n",
    "\n"
   ]
  },
  {
   "cell_type": "code",
   "execution_count": 99,
   "metadata": {
    "id": "1MBkGaLAYVCt"
   },
   "outputs": [],
   "source": [
    "# MapReduce model\n",
    "def flatten(nested_iterable):\n",
    "  for iterable in nested_iterable:\n",
    "    for element in iterable:\n",
    "      yield element\n",
    "\n",
    "def groupbykey(iterable):\n",
    "  t = {}\n",
    "  for (k2, v2) in iterable:\n",
    "    t[k2] = t.get(k2, []) + [v2]\n",
    "  return t.items()\n",
    "\n",
    "def MapReduce(RECORDREADER, MAP, REDUCE):\n",
    "  return flatten(map(lambda x: REDUCE(*x), groupbykey(flatten(map(lambda x: MAP(*x), RECORDREADER())))))"
   ]
  },
  {
   "cell_type": "markdown",
   "metadata": {
    "id": "sMspsOT0ZB35"
   },
   "source": [
    "Реализуйте перемножение матриц с использованием модельного кода MapReduce для одной машины в случае, когда одна матрица хранится в памяти, а другая генерируется RECORDREADER-ом."
   ]
  },
  {
   "cell_type": "code",
   "execution_count": 100,
   "metadata": {
    "id": "psP1XekbsEjS"
   },
   "outputs": [],
   "source": [
    "import numpy as np\n",
    "I = 2\n",
    "J = 3\n",
    "K = 4*10\n",
    "small_mat = np.random.rand(I,J) # it is legal to access this from RECORDREADER, MAP, REDUCE\n",
    "big_mat = np.random.rand(J,K)\n",
    "\n",
    "def RECORDREADER():\n",
    "  for j in range(big_mat.shape[0]):\n",
    "    for k in range(big_mat.shape[1]):\n",
    "      yield ((j,k), big_mat[j,k])\n",
    "      \n",
    "def MAP(k1, v1):\n",
    "  (j, k) = k1\n",
    "  w = v1\n",
    "  # solution code that yield(k2,v2) pairs\n",
    "  for i in range(I):\n",
    "    k2 = (i, k)\n",
    "    v2 = small_mat[i, j] * w\n",
    "    yield (k2, v2)\n",
    "\n",
    "def REDUCE(key, values):\n",
    "  (i, k) = key\n",
    "  # solution code that yield(k3,v3) pairs\n",
    "  k3 = (i, k)\n",
    "  v3 = 0\n",
    "  for j in range(J):\n",
    "    v3 += values[j]\n",
    "  yield (k3, v3)"
   ]
  },
  {
   "cell_type": "markdown",
   "metadata": {
    "id": "rnt306LHhHrm"
   },
   "source": [
    "Проверьте своё решение"
   ]
  },
  {
   "cell_type": "code",
   "execution_count": 101,
   "metadata": {
    "colab": {
     "base_uri": "https://localhost:8080/",
     "height": 34
    },
    "id": "Ewy_ZNYqW5a2",
    "outputId": "9ce264f2-9412-44e2-9b0a-cc780573ab3a"
   },
   "outputs": [
    {
     "data": {
      "text/plain": [
       "True"
      ]
     },
     "execution_count": 101,
     "metadata": {},
     "output_type": "execute_result"
    }
   ],
   "source": [
    "# CHECK THE SOLUTION\n",
    "reference_solution = np.matmul(small_mat, big_mat) \n",
    "solution = MapReduce(RECORDREADER, MAP, REDUCE)\n",
    "\n",
    "def asmatrix(reduce_output):\n",
    "  reduce_output = list(reduce_output)\n",
    "  I = max(i for ((i,k), vw) in reduce_output)+1\n",
    "  K = max(k for ((i,k), vw) in reduce_output)+1\n",
    "  mat = np.empty(shape=(I,K))\n",
    "  for ((i,k), vw) in reduce_output:\n",
    "    mat[i,k] = vw\n",
    "  return mat\n",
    "\n",
    "np.allclose(reference_solution, asmatrix(solution)) # should return true"
   ]
  },
  {
   "cell_type": "code",
   "execution_count": 102,
   "metadata": {
    "colab": {
     "base_uri": "https://localhost:8080/",
     "height": 34
    },
    "id": "TK7v4CEcfxqf",
    "outputId": "2c865d0a-4065-4e6b-c83f-5508ed5eb4fa"
   },
   "outputs": [
    {
     "data": {
      "text/plain": [
       "1"
      ]
     },
     "execution_count": 102,
     "metadata": {},
     "output_type": "execute_result"
    }
   ],
   "source": [
    "reduce_output = list(MapReduce(RECORDREADER, MAP, REDUCE))\n",
    "max(i for ((i,k), vw) in reduce_output)"
   ]
  },
  {
   "cell_type": "markdown",
   "metadata": {
    "id": "i4yyg3kOZqJJ"
   },
   "source": [
    "Реализуйте перемножение матриц  с использованием модельного кода MapReduce для одной машины в случае, когда обе матрицы генерируются в RECORDREADER. Например, сначала одна, а потом другая."
   ]
  },
  {
   "cell_type": "code",
   "execution_count": 103,
   "metadata": {
    "id": "3B7rIAJCaHZq"
   },
   "outputs": [],
   "source": [
    "I = 2\n",
    "J = 3\n",
    "K = 4*10\n",
    "small_mat = np.random.rand(I,J)\n",
    "big_mat = np.random.rand(J,K)\n",
    "\n",
    "def RECORDREADER():\n",
    "  for i in range(I):\n",
    "    for j in range(J):\n",
    "      for k in range(K):\n",
    "        yield (((i, j), small_mat[i, j]), ((j, k), big_mat[j, k]))\n",
    "\n",
    "def MAP(kv1, kv2):\n",
    "  (i, j), v1 = kv1\n",
    "  (j, k), v2 = kv2\n",
    "  yield ((i, k), v1*v2)\n",
    "\n",
    "def REDUCE(key, values):\n",
    "  v3 = 0\n",
    "  for j in range(J):\n",
    "    v3 += values[j]\n",
    "  yield (key, v3)"
   ]
  },
  {
   "cell_type": "code",
   "execution_count": 104,
   "metadata": {},
   "outputs": [
    {
     "data": {
      "text/plain": [
       "True"
      ]
     },
     "execution_count": 104,
     "metadata": {},
     "output_type": "execute_result"
    }
   ],
   "source": [
    "# CHECK THE SOLUTION\n",
    "reference_solution = np.matmul(small_mat, big_mat) \n",
    "solution = MapReduce(RECORDREADER, MAP, REDUCE)\n",
    "\n",
    "def asmatrix(reduce_output):\n",
    "  reduce_output = list(reduce_output)\n",
    "  I = max(i for ((i,k), vw) in reduce_output)+1\n",
    "  K = max(k for ((i,k), vw) in reduce_output)+1\n",
    "  mat = np.empty(shape=(I,K))\n",
    "  for ((i,k), vw) in reduce_output:\n",
    "    mat[i,k] = vw\n",
    "  return mat\n",
    "\n",
    "np.allclose(reference_solution, asmatrix(solution)) # should return true"
   ]
  },
  {
   "cell_type": "markdown",
   "metadata": {
    "id": "mXyzQi1DaIwo"
   },
   "source": [
    "Реализуйте перемножение матриц с использованием модельного кода MapReduce Distributed, когда каждая матрица генерируется в своём RECORDREADER. "
   ]
  },
  {
   "cell_type": "code",
   "execution_count": 105,
   "metadata": {
    "id": "TDM_s78Rb5eR"
   },
   "outputs": [],
   "source": [
    "I = 2\n",
    "J = 3\n",
    "K = 4*10\n",
    "small_mat = np.random.rand(I,J)\n",
    "big_mat = np.random.rand(J,K)\n",
    "\n",
    "maps = 3\n",
    "reducers = 2\n",
    "\n",
    "def INPUTFORMAT():\n",
    "  global maps\n",
    "\n",
    "  def RECORDREADER(split):\n",
    "    for i in split:\n",
    "      for j in range(J):\n",
    "        for k in range(K):\n",
    "          yield (((i, j), small_mat[i, j]), ((j, k), big_mat[j, k]))\n",
    "\n",
    "  split_size = int(np.ceil(I/maps))\n",
    "  for i in range(0, I, split_size):\n",
    "    yield RECORDREADER(range(i, i+split_size))\n",
    "\n",
    "def MAP(kv1, kv2):\n",
    "  (i, j), v1 = kv1\n",
    "  (j, k), v2 = kv2\n",
    "  yield ((i, k), v1*v2)\n",
    "\n",
    "def REDUCE(key, values):\n",
    "  v3 = 0\n",
    "  for j in range(J):\n",
    "    v3 += values[j]\n",
    "  yield (key, v3)"
   ]
  },
  {
   "cell_type": "code",
   "execution_count": 106,
   "metadata": {},
   "outputs": [
    {
     "data": {
      "text/plain": [
       "True"
      ]
     },
     "execution_count": 106,
     "metadata": {},
     "output_type": "execute_result"
    }
   ],
   "source": [
    "# CHECK THE SOLUTION\n",
    "reference_solution = np.matmul(small_mat, big_mat) \n",
    "solution = MapReduce(RECORDREADER, MAP, REDUCE)\n",
    "\n",
    "def asmatrix(reduce_output):\n",
    "  reduce_output = list(reduce_output)\n",
    "  I = max(i for ((i,k), vw) in reduce_output)+1\n",
    "  K = max(k for ((i,k), vw) in reduce_output)+1\n",
    "  mat = np.empty(shape=(I,K))\n",
    "  for ((i,k), vw) in reduce_output:\n",
    "    mat[i,k] = vw\n",
    "  return mat\n",
    "\n",
    "np.allclose(reference_solution, asmatrix(solution)) # should return true"
   ]
  },
  {
   "cell_type": "markdown",
   "metadata": {
    "id": "ZuSA2P9Db6UM"
   },
   "source": [
    "Обобщите предыдущее решение на случай, когда каждая матрица генерируется несколькими RECORDREADER-ами, и проверьте его работоспособность. Будет ли работать решение, если RECORDREADER-ы будут генерировать случайное подмножество элементов матрицы?"
   ]
  },
  {
   "cell_type": "markdown",
   "metadata": {},
   "source": [
    "Да, решение будет работать, даже если RECORDREADER-ы будут генерировать случайное подмножество элементов матрицы, но может быть неполным или содержать ошибки из-за дублирования. "
   ]
  },
  {
   "cell_type": "code",
   "execution_count": null,
   "metadata": {},
   "outputs": [],
   "source": []
  }
 ],
 "metadata": {
  "colab": {
   "provenance": []
  },
  "kernelspec": {
   "display_name": "Python 3 (ipykernel)",
   "language": "python",
   "name": "python3"
  },
  "language_info": {
   "codemirror_mode": {
    "name": "ipython",
    "version": 3
   },
   "file_extension": ".py",
   "mimetype": "text/x-python",
   "name": "python",
   "nbconvert_exporter": "python",
   "pygments_lexer": "ipython3",
   "version": "3.12.7"
  }
 },
 "nbformat": 4,
 "nbformat_minor": 4
}
