{
  "nbformat": 4,
  "nbformat_minor": 0,
  "metadata": {
    "colab": {
      "provenance": []
    },
    "kernelspec": {
      "name": "python3",
      "display_name": "Python 3"
    },
    "language_info": {
      "name": "python"
    }
  },
  "cells": [
    {
      "cell_type": "code",
      "execution_count": 1,
      "metadata": {
        "colab": {
          "base_uri": "https://localhost:8080/"
        },
        "id": "enAFIwvQw7G1",
        "outputId": "02bfcacc-e752-46ef-b764-96afc26b332e"
      },
      "outputs": [
        {
          "output_type": "stream",
          "name": "stdout",
          "text": [
            "Get:1 https://developer.download.nvidia.com/compute/cuda/repos/ubuntu2204/x86_64  InRelease [1,581 B]\n",
            "Get:2 https://cloud.r-project.org/bin/linux/ubuntu jammy-cran40/ InRelease [3,632 B]\n",
            "Get:3 https://developer.download.nvidia.com/compute/cuda/repos/ubuntu2204/x86_64  Packages [1,381 kB]\n",
            "Get:4 http://security.ubuntu.com/ubuntu jammy-security InRelease [129 kB]\n",
            "Hit:5 http://archive.ubuntu.com/ubuntu jammy InRelease\n",
            "Get:6 http://archive.ubuntu.com/ubuntu jammy-updates InRelease [128 kB]\n",
            "Get:7 https://r2u.stat.illinois.edu/ubuntu jammy InRelease [6,555 B]\n",
            "Hit:8 https://ppa.launchpadcontent.net/deadsnakes/ppa/ubuntu jammy InRelease\n",
            "Hit:9 https://ppa.launchpadcontent.net/graphics-drivers/ppa/ubuntu jammy InRelease\n",
            "Get:10 https://r2u.stat.illinois.edu/ubuntu jammy/main all Packages [8,788 kB]\n",
            "Hit:11 https://ppa.launchpadcontent.net/ubuntugis/ppa/ubuntu jammy InRelease\n",
            "Get:12 http://security.ubuntu.com/ubuntu jammy-security/universe amd64 Packages [1,239 kB]\n",
            "Get:13 http://archive.ubuntu.com/ubuntu jammy-backports InRelease [127 kB]\n",
            "Get:14 http://archive.ubuntu.com/ubuntu jammy-updates/restricted amd64 Packages [4,049 kB]\n",
            "Get:15 http://security.ubuntu.com/ubuntu jammy-security/main amd64 Packages [2,737 kB]\n",
            "Get:16 http://security.ubuntu.com/ubuntu jammy-security/restricted amd64 Packages [3,892 kB]\n",
            "Get:17 http://security.ubuntu.com/ubuntu jammy-security/multiverse amd64 Packages [47.7 kB]\n",
            "Get:18 https://r2u.stat.illinois.edu/ubuntu jammy/main amd64 Packages [2,684 kB]\n",
            "Get:19 http://archive.ubuntu.com/ubuntu jammy-updates/universe amd64 Packages [1,538 kB]\n",
            "Get:20 http://archive.ubuntu.com/ubuntu jammy-updates/main amd64 Packages [3,045 kB]\n",
            "Get:21 http://archive.ubuntu.com/ubuntu jammy-updates/multiverse amd64 Packages [55.7 kB]\n",
            "Get:22 http://archive.ubuntu.com/ubuntu jammy-backports/universe amd64 Packages [35.2 kB]\n",
            "Fetched 29.9 MB in 8s (3,609 kB/s)\n",
            "Reading package lists... Done\n",
            "W: Skipping acquire of configured file 'main/source/Sources' as repository 'https://r2u.stat.illinois.edu/ubuntu jammy InRelease' does not seem to provide it (sources.list entry misspelt?)\n"
          ]
        }
      ],
      "source": [
        "!apt-get update\n",
        "!apt-get install openjdk-11-jdk-headless -qq > /dev/null"
      ]
    },
    {
      "cell_type": "code",
      "source": [
        "!wget -q https://archive.apache.org/dist/spark/spark-3.5.5/spark-3.5.5-bin-hadoop3.tgz\n",
        "!tar -xzf spark-3.5.5-bin-hadoop3.tgz\n",
        "!mv spark-3.5.5-bin-hadoop3 /content/spark"
      ],
      "metadata": {
        "id": "fO7Y_ooUxO3X"
      },
      "execution_count": 2,
      "outputs": []
    },
    {
      "cell_type": "code",
      "source": [
        "import os\n",
        "os.environ[\"JAVA_HOME\"] = \"/usr/lib/jvm/java-11-openjdk-amd64\"\n",
        "os.environ[\"SPARK_HOME\"] = \"/content/spark\"\n",
        "os.environ[\"PATH\"] += \":/content/spark/bin\""
      ],
      "metadata": {
        "id": "Ok9S7GYrxPdf"
      },
      "execution_count": 3,
      "outputs": []
    },
    {
      "cell_type": "code",
      "source": [
        "!pip install -q findspark"
      ],
      "metadata": {
        "id": "RDeo5HuwxUOg"
      },
      "execution_count": 4,
      "outputs": []
    },
    {
      "cell_type": "code",
      "source": [
        "import findspark\n",
        "findspark.init()"
      ],
      "metadata": {
        "id": "-7g8tzrWxWeG"
      },
      "execution_count": 5,
      "outputs": []
    },
    {
      "cell_type": "code",
      "source": [
        "from pyspark import SparkContext, SparkConf\n",
        "import pyspark.sql as sql\n",
        "from pyspark.sql import SparkSession\n",
        "from pyspark.sql.types import DoubleType\n",
        "from pyspark.sql.functions import udf, col, max, sum, countDistinct\n",
        "from pyspark.sql.functions import radians, cos, sin, sqrt, asin\n",
        "\n",
        "spark = SparkSession.builder\\\n",
        "        .master(\"local\")\\\n",
        "        .appName(\"Colab\")\\\n",
        "        .config('spark.ui.port', '4050')\\\n",
        "        .getOrCreate()\n",
        "\n",
        "sc = spark.sparkContext\n",
        "\n",
        "print(sc.version)"
      ],
      "metadata": {
        "colab": {
          "base_uri": "https://localhost:8080/"
        },
        "id": "Eap220eixXME",
        "outputId": "25450d1d-d1b7-4570-b70b-a73689a19d78"
      },
      "execution_count": 6,
      "outputs": [
        {
          "output_type": "stream",
          "name": "stdout",
          "text": [
            "3.5.5\n"
          ]
        }
      ]
    },
    {
      "cell_type": "code",
      "source": [
        "from google.colab import files\n",
        "uploaded = files.upload()"
      ],
      "metadata": {
        "colab": {
          "base_uri": "https://localhost:8080/",
          "height": 74
        },
        "id": "Z4M4rfkL6niR",
        "outputId": "6215b1b7-bc5d-49e4-eb91-f542afa92400"
      },
      "execution_count": 8,
      "outputs": [
        {
          "output_type": "display_data",
          "data": {
            "text/plain": [
              "<IPython.core.display.HTML object>"
            ],
            "text/html": [
              "\n",
              "     <input type=\"file\" id=\"files-8f0562c9-8c90-48e3-9aed-e64fe9f50eb6\" name=\"files[]\" multiple disabled\n",
              "        style=\"border:none\" />\n",
              "     <output id=\"result-8f0562c9-8c90-48e3-9aed-e64fe9f50eb6\">\n",
              "      Upload widget is only available when the cell has been executed in the\n",
              "      current browser session. Please rerun this cell to enable.\n",
              "      </output>\n",
              "      <script>// Copyright 2017 Google LLC\n",
              "//\n",
              "// Licensed under the Apache License, Version 2.0 (the \"License\");\n",
              "// you may not use this file except in compliance with the License.\n",
              "// You may obtain a copy of the License at\n",
              "//\n",
              "//      http://www.apache.org/licenses/LICENSE-2.0\n",
              "//\n",
              "// Unless required by applicable law or agreed to in writing, software\n",
              "// distributed under the License is distributed on an \"AS IS\" BASIS,\n",
              "// WITHOUT WARRANTIES OR CONDITIONS OF ANY KIND, either express or implied.\n",
              "// See the License for the specific language governing permissions and\n",
              "// limitations under the License.\n",
              "\n",
              "/**\n",
              " * @fileoverview Helpers for google.colab Python module.\n",
              " */\n",
              "(function(scope) {\n",
              "function span(text, styleAttributes = {}) {\n",
              "  const element = document.createElement('span');\n",
              "  element.textContent = text;\n",
              "  for (const key of Object.keys(styleAttributes)) {\n",
              "    element.style[key] = styleAttributes[key];\n",
              "  }\n",
              "  return element;\n",
              "}\n",
              "\n",
              "// Max number of bytes which will be uploaded at a time.\n",
              "const MAX_PAYLOAD_SIZE = 100 * 1024;\n",
              "\n",
              "function _uploadFiles(inputId, outputId) {\n",
              "  const steps = uploadFilesStep(inputId, outputId);\n",
              "  const outputElement = document.getElementById(outputId);\n",
              "  // Cache steps on the outputElement to make it available for the next call\n",
              "  // to uploadFilesContinue from Python.\n",
              "  outputElement.steps = steps;\n",
              "\n",
              "  return _uploadFilesContinue(outputId);\n",
              "}\n",
              "\n",
              "// This is roughly an async generator (not supported in the browser yet),\n",
              "// where there are multiple asynchronous steps and the Python side is going\n",
              "// to poll for completion of each step.\n",
              "// This uses a Promise to block the python side on completion of each step,\n",
              "// then passes the result of the previous step as the input to the next step.\n",
              "function _uploadFilesContinue(outputId) {\n",
              "  const outputElement = document.getElementById(outputId);\n",
              "  const steps = outputElement.steps;\n",
              "\n",
              "  const next = steps.next(outputElement.lastPromiseValue);\n",
              "  return Promise.resolve(next.value.promise).then((value) => {\n",
              "    // Cache the last promise value to make it available to the next\n",
              "    // step of the generator.\n",
              "    outputElement.lastPromiseValue = value;\n",
              "    return next.value.response;\n",
              "  });\n",
              "}\n",
              "\n",
              "/**\n",
              " * Generator function which is called between each async step of the upload\n",
              " * process.\n",
              " * @param {string} inputId Element ID of the input file picker element.\n",
              " * @param {string} outputId Element ID of the output display.\n",
              " * @return {!Iterable<!Object>} Iterable of next steps.\n",
              " */\n",
              "function* uploadFilesStep(inputId, outputId) {\n",
              "  const inputElement = document.getElementById(inputId);\n",
              "  inputElement.disabled = false;\n",
              "\n",
              "  const outputElement = document.getElementById(outputId);\n",
              "  outputElement.innerHTML = '';\n",
              "\n",
              "  const pickedPromise = new Promise((resolve) => {\n",
              "    inputElement.addEventListener('change', (e) => {\n",
              "      resolve(e.target.files);\n",
              "    });\n",
              "  });\n",
              "\n",
              "  const cancel = document.createElement('button');\n",
              "  inputElement.parentElement.appendChild(cancel);\n",
              "  cancel.textContent = 'Cancel upload';\n",
              "  const cancelPromise = new Promise((resolve) => {\n",
              "    cancel.onclick = () => {\n",
              "      resolve(null);\n",
              "    };\n",
              "  });\n",
              "\n",
              "  // Wait for the user to pick the files.\n",
              "  const files = yield {\n",
              "    promise: Promise.race([pickedPromise, cancelPromise]),\n",
              "    response: {\n",
              "      action: 'starting',\n",
              "    }\n",
              "  };\n",
              "\n",
              "  cancel.remove();\n",
              "\n",
              "  // Disable the input element since further picks are not allowed.\n",
              "  inputElement.disabled = true;\n",
              "\n",
              "  if (!files) {\n",
              "    return {\n",
              "      response: {\n",
              "        action: 'complete',\n",
              "      }\n",
              "    };\n",
              "  }\n",
              "\n",
              "  for (const file of files) {\n",
              "    const li = document.createElement('li');\n",
              "    li.append(span(file.name, {fontWeight: 'bold'}));\n",
              "    li.append(span(\n",
              "        `(${file.type || 'n/a'}) - ${file.size} bytes, ` +\n",
              "        `last modified: ${\n",
              "            file.lastModifiedDate ? file.lastModifiedDate.toLocaleDateString() :\n",
              "                                    'n/a'} - `));\n",
              "    const percent = span('0% done');\n",
              "    li.appendChild(percent);\n",
              "\n",
              "    outputElement.appendChild(li);\n",
              "\n",
              "    const fileDataPromise = new Promise((resolve) => {\n",
              "      const reader = new FileReader();\n",
              "      reader.onload = (e) => {\n",
              "        resolve(e.target.result);\n",
              "      };\n",
              "      reader.readAsArrayBuffer(file);\n",
              "    });\n",
              "    // Wait for the data to be ready.\n",
              "    let fileData = yield {\n",
              "      promise: fileDataPromise,\n",
              "      response: {\n",
              "        action: 'continue',\n",
              "      }\n",
              "    };\n",
              "\n",
              "    // Use a chunked sending to avoid message size limits. See b/62115660.\n",
              "    let position = 0;\n",
              "    do {\n",
              "      const length = Math.min(fileData.byteLength - position, MAX_PAYLOAD_SIZE);\n",
              "      const chunk = new Uint8Array(fileData, position, length);\n",
              "      position += length;\n",
              "\n",
              "      const base64 = btoa(String.fromCharCode.apply(null, chunk));\n",
              "      yield {\n",
              "        response: {\n",
              "          action: 'append',\n",
              "          file: file.name,\n",
              "          data: base64,\n",
              "        },\n",
              "      };\n",
              "\n",
              "      let percentDone = fileData.byteLength === 0 ?\n",
              "          100 :\n",
              "          Math.round((position / fileData.byteLength) * 100);\n",
              "      percent.textContent = `${percentDone}% done`;\n",
              "\n",
              "    } while (position < fileData.byteLength);\n",
              "  }\n",
              "\n",
              "  // All done.\n",
              "  yield {\n",
              "    response: {\n",
              "      action: 'complete',\n",
              "    }\n",
              "  };\n",
              "}\n",
              "\n",
              "scope.google = scope.google || {};\n",
              "scope.google.colab = scope.google.colab || {};\n",
              "scope.google.colab._files = {\n",
              "  _uploadFiles,\n",
              "  _uploadFilesContinue,\n",
              "};\n",
              "})(self);\n",
              "</script> "
            ]
          },
          "metadata": {}
        },
        {
          "output_type": "stream",
          "name": "stdout",
          "text": [
            "Saving trips.csv to trips.csv\n"
          ]
        }
      ]
    },
    {
      "cell_type": "code",
      "source": [
        "uploaded = files.upload()"
      ],
      "metadata": {
        "colab": {
          "base_uri": "https://localhost:8080/",
          "height": 74
        },
        "id": "Jm5GikaA8akt",
        "outputId": "c76c35b8-e294-46ac-b015-7bd178df7b08"
      },
      "execution_count": 9,
      "outputs": [
        {
          "output_type": "display_data",
          "data": {
            "text/plain": [
              "<IPython.core.display.HTML object>"
            ],
            "text/html": [
              "\n",
              "     <input type=\"file\" id=\"files-51622313-5975-47b0-84da-32ec4b64dd26\" name=\"files[]\" multiple disabled\n",
              "        style=\"border:none\" />\n",
              "     <output id=\"result-51622313-5975-47b0-84da-32ec4b64dd26\">\n",
              "      Upload widget is only available when the cell has been executed in the\n",
              "      current browser session. Please rerun this cell to enable.\n",
              "      </output>\n",
              "      <script>// Copyright 2017 Google LLC\n",
              "//\n",
              "// Licensed under the Apache License, Version 2.0 (the \"License\");\n",
              "// you may not use this file except in compliance with the License.\n",
              "// You may obtain a copy of the License at\n",
              "//\n",
              "//      http://www.apache.org/licenses/LICENSE-2.0\n",
              "//\n",
              "// Unless required by applicable law or agreed to in writing, software\n",
              "// distributed under the License is distributed on an \"AS IS\" BASIS,\n",
              "// WITHOUT WARRANTIES OR CONDITIONS OF ANY KIND, either express or implied.\n",
              "// See the License for the specific language governing permissions and\n",
              "// limitations under the License.\n",
              "\n",
              "/**\n",
              " * @fileoverview Helpers for google.colab Python module.\n",
              " */\n",
              "(function(scope) {\n",
              "function span(text, styleAttributes = {}) {\n",
              "  const element = document.createElement('span');\n",
              "  element.textContent = text;\n",
              "  for (const key of Object.keys(styleAttributes)) {\n",
              "    element.style[key] = styleAttributes[key];\n",
              "  }\n",
              "  return element;\n",
              "}\n",
              "\n",
              "// Max number of bytes which will be uploaded at a time.\n",
              "const MAX_PAYLOAD_SIZE = 100 * 1024;\n",
              "\n",
              "function _uploadFiles(inputId, outputId) {\n",
              "  const steps = uploadFilesStep(inputId, outputId);\n",
              "  const outputElement = document.getElementById(outputId);\n",
              "  // Cache steps on the outputElement to make it available for the next call\n",
              "  // to uploadFilesContinue from Python.\n",
              "  outputElement.steps = steps;\n",
              "\n",
              "  return _uploadFilesContinue(outputId);\n",
              "}\n",
              "\n",
              "// This is roughly an async generator (not supported in the browser yet),\n",
              "// where there are multiple asynchronous steps and the Python side is going\n",
              "// to poll for completion of each step.\n",
              "// This uses a Promise to block the python side on completion of each step,\n",
              "// then passes the result of the previous step as the input to the next step.\n",
              "function _uploadFilesContinue(outputId) {\n",
              "  const outputElement = document.getElementById(outputId);\n",
              "  const steps = outputElement.steps;\n",
              "\n",
              "  const next = steps.next(outputElement.lastPromiseValue);\n",
              "  return Promise.resolve(next.value.promise).then((value) => {\n",
              "    // Cache the last promise value to make it available to the next\n",
              "    // step of the generator.\n",
              "    outputElement.lastPromiseValue = value;\n",
              "    return next.value.response;\n",
              "  });\n",
              "}\n",
              "\n",
              "/**\n",
              " * Generator function which is called between each async step of the upload\n",
              " * process.\n",
              " * @param {string} inputId Element ID of the input file picker element.\n",
              " * @param {string} outputId Element ID of the output display.\n",
              " * @return {!Iterable<!Object>} Iterable of next steps.\n",
              " */\n",
              "function* uploadFilesStep(inputId, outputId) {\n",
              "  const inputElement = document.getElementById(inputId);\n",
              "  inputElement.disabled = false;\n",
              "\n",
              "  const outputElement = document.getElementById(outputId);\n",
              "  outputElement.innerHTML = '';\n",
              "\n",
              "  const pickedPromise = new Promise((resolve) => {\n",
              "    inputElement.addEventListener('change', (e) => {\n",
              "      resolve(e.target.files);\n",
              "    });\n",
              "  });\n",
              "\n",
              "  const cancel = document.createElement('button');\n",
              "  inputElement.parentElement.appendChild(cancel);\n",
              "  cancel.textContent = 'Cancel upload';\n",
              "  const cancelPromise = new Promise((resolve) => {\n",
              "    cancel.onclick = () => {\n",
              "      resolve(null);\n",
              "    };\n",
              "  });\n",
              "\n",
              "  // Wait for the user to pick the files.\n",
              "  const files = yield {\n",
              "    promise: Promise.race([pickedPromise, cancelPromise]),\n",
              "    response: {\n",
              "      action: 'starting',\n",
              "    }\n",
              "  };\n",
              "\n",
              "  cancel.remove();\n",
              "\n",
              "  // Disable the input element since further picks are not allowed.\n",
              "  inputElement.disabled = true;\n",
              "\n",
              "  if (!files) {\n",
              "    return {\n",
              "      response: {\n",
              "        action: 'complete',\n",
              "      }\n",
              "    };\n",
              "  }\n",
              "\n",
              "  for (const file of files) {\n",
              "    const li = document.createElement('li');\n",
              "    li.append(span(file.name, {fontWeight: 'bold'}));\n",
              "    li.append(span(\n",
              "        `(${file.type || 'n/a'}) - ${file.size} bytes, ` +\n",
              "        `last modified: ${\n",
              "            file.lastModifiedDate ? file.lastModifiedDate.toLocaleDateString() :\n",
              "                                    'n/a'} - `));\n",
              "    const percent = span('0% done');\n",
              "    li.appendChild(percent);\n",
              "\n",
              "    outputElement.appendChild(li);\n",
              "\n",
              "    const fileDataPromise = new Promise((resolve) => {\n",
              "      const reader = new FileReader();\n",
              "      reader.onload = (e) => {\n",
              "        resolve(e.target.result);\n",
              "      };\n",
              "      reader.readAsArrayBuffer(file);\n",
              "    });\n",
              "    // Wait for the data to be ready.\n",
              "    let fileData = yield {\n",
              "      promise: fileDataPromise,\n",
              "      response: {\n",
              "        action: 'continue',\n",
              "      }\n",
              "    };\n",
              "\n",
              "    // Use a chunked sending to avoid message size limits. See b/62115660.\n",
              "    let position = 0;\n",
              "    do {\n",
              "      const length = Math.min(fileData.byteLength - position, MAX_PAYLOAD_SIZE);\n",
              "      const chunk = new Uint8Array(fileData, position, length);\n",
              "      position += length;\n",
              "\n",
              "      const base64 = btoa(String.fromCharCode.apply(null, chunk));\n",
              "      yield {\n",
              "        response: {\n",
              "          action: 'append',\n",
              "          file: file.name,\n",
              "          data: base64,\n",
              "        },\n",
              "      };\n",
              "\n",
              "      let percentDone = fileData.byteLength === 0 ?\n",
              "          100 :\n",
              "          Math.round((position / fileData.byteLength) * 100);\n",
              "      percent.textContent = `${percentDone}% done`;\n",
              "\n",
              "    } while (position < fileData.byteLength);\n",
              "  }\n",
              "\n",
              "  // All done.\n",
              "  yield {\n",
              "    response: {\n",
              "      action: 'complete',\n",
              "    }\n",
              "  };\n",
              "}\n",
              "\n",
              "scope.google = scope.google || {};\n",
              "scope.google.colab = scope.google.colab || {};\n",
              "scope.google.colab._files = {\n",
              "  _uploadFiles,\n",
              "  _uploadFilesContinue,\n",
              "};\n",
              "})(self);\n",
              "</script> "
            ]
          },
          "metadata": {}
        },
        {
          "output_type": "stream",
          "name": "stdout",
          "text": [
            "Saving stations.csv to stations.csv\n"
          ]
        }
      ]
    },
    {
      "cell_type": "code",
      "source": [
        "spark = SparkSession.builder.appName(\"MySparkApp\").getOrCreate()\n",
        "\n",
        "trips = spark.read.csv(\"trips.csv\", header=True, inferSchema=True)\n",
        "stations = spark.read.csv(\"stations.csv\", header=True, inferSchema=True)\n",
        "\n",
        "trips.printSchema()\n",
        "trips.show(5, truncate=False)\n",
        "\n",
        "stations.printSchema()\n",
        "stations.show(5, truncate=False)"
      ],
      "metadata": {
        "colab": {
          "base_uri": "https://localhost:8080/"
        },
        "id": "Mci1hKO1zBks",
        "outputId": "218735d0-2b58-48e8-c906-73de245260b4"
      },
      "execution_count": 10,
      "outputs": [
        {
          "output_type": "stream",
          "name": "stdout",
          "text": [
            "root\n",
            " |-- id: integer (nullable = true)\n",
            " |-- duration: integer (nullable = true)\n",
            " |-- start_date: string (nullable = true)\n",
            " |-- start_station_name: string (nullable = true)\n",
            " |-- start_station_id: integer (nullable = true)\n",
            " |-- end_date: string (nullable = true)\n",
            " |-- end_station_name: string (nullable = true)\n",
            " |-- end_station_id: integer (nullable = true)\n",
            " |-- bike_id: integer (nullable = true)\n",
            " |-- subscription_type: string (nullable = true)\n",
            " |-- zip_code: string (nullable = true)\n",
            "\n",
            "+----+--------+---------------+------------------------+----------------+---------------+------------------------+--------------+-------+-----------------+--------+\n",
            "|id  |duration|start_date     |start_station_name      |start_station_id|end_date       |end_station_name        |end_station_id|bike_id|subscription_type|zip_code|\n",
            "+----+--------+---------------+------------------------+----------------+---------------+------------------------+--------------+-------+-----------------+--------+\n",
            "|4576|63      |NULL           |South Van Ness at Market|66              |8/29/2013 14:14|South Van Ness at Market|66            |520    |Subscriber       |94127   |\n",
            "|4607|NULL    |8/29/2013 14:42|San Jose City Hall      |10              |8/29/2013 14:43|San Jose City Hall      |10            |661    |Subscriber       |95138   |\n",
            "|4130|71      |8/29/2013 10:16|Mountain View City Hall |27              |8/29/2013 10:17|Mountain View City Hall |27            |48     |Subscriber       |97214   |\n",
            "|4251|77      |8/29/2013 11:29|San Jose City Hall      |10              |8/29/2013 11:30|San Jose City Hall      |10            |26     |Subscriber       |95060   |\n",
            "|4299|83      |8/29/2013 12:02|South Van Ness at Market|66              |8/29/2013 12:04|Market at 10th          |67            |319    |Subscriber       |94103   |\n",
            "+----+--------+---------------+------------------------+----------------+---------------+------------------------+--------------+-------+-----------------+--------+\n",
            "only showing top 5 rows\n",
            "\n",
            "root\n",
            " |-- id: integer (nullable = true)\n",
            " |-- name: string (nullable = true)\n",
            " |-- lat: double (nullable = true)\n",
            " |-- long: double (nullable = true)\n",
            " |-- dock_count: integer (nullable = true)\n",
            " |-- city: string (nullable = true)\n",
            " |-- installation_date: string (nullable = true)\n",
            "\n",
            "+---+---------------------------------+------------------+-------------------+----------+--------+-----------------+\n",
            "|id |name                             |lat               |long               |dock_count|city    |installation_date|\n",
            "+---+---------------------------------+------------------+-------------------+----------+--------+-----------------+\n",
            "|2  |San Jose Diridon Caltrain Station|37.329732         |-121.90178200000001|27        |San Jose|8/6/2013         |\n",
            "|3  |San Jose Civic Center            |37.330698         |-121.888979        |15        |San Jose|8/5/2013         |\n",
            "|4  |Santa Clara at Almaden           |37.333988         |-121.894902        |11        |San Jose|8/6/2013         |\n",
            "|5  |Adobe on Almaden                 |37.331415         |-121.8932          |19        |San Jose|8/5/2013         |\n",
            "|6  |San Pedro Square                 |37.336721000000004|-121.894074        |15        |San Jose|8/7/2013         |\n",
            "+---+---------------------------------+------------------+-------------------+----------+--------+-----------------+\n",
            "only showing top 5 rows\n",
            "\n"
          ]
        }
      ]
    },
    {
      "cell_type": "markdown",
      "source": [
        "1. Найти велосипед с максимальным временем пробега."
      ],
      "metadata": {
        "id": "Rzv2A6d59UZj"
      }
    },
    {
      "cell_type": "code",
      "source": [
        "bike_max_duration = (\n",
        "    trips\n",
        "    .groupBy(\"bike_id\") # группируем данные по bike_id\n",
        "    .sum(\"duration\")# находим суммарную продолжительность всех поездок для каждого велосипеда\n",
        "    .withColumnRenamed(\"sum(duration)\", \"total_duration\")\n",
        "    .orderBy(col(\"total_duration\").desc())# сортируем по убыванию\n",
        "    .limit(1) # выводим максимальную продолжительность\n",
        ")\n",
        "\n",
        "bike_max_duration.show()"
      ],
      "metadata": {
        "colab": {
          "base_uri": "https://localhost:8080/"
        },
        "id": "idWEmO1HC399",
        "outputId": "3af95317-a0b8-4062-9dc1-8526abd3ce3b"
      },
      "execution_count": 11,
      "outputs": [
        {
          "output_type": "stream",
          "name": "stdout",
          "text": [
            "+-------+--------------+\n",
            "|bike_id|total_duration|\n",
            "+-------+--------------+\n",
            "|    535|      18611693|\n",
            "+-------+--------------+\n",
            "\n"
          ]
        }
      ]
    },
    {
      "cell_type": "markdown",
      "source": [
        "2. Найти наибольшее геодезическое расстояние между станциями."
      ],
      "metadata": {
        "id": "rnTit4bw9ebo"
      }
    },
    {
      "cell_type": "code",
      "source": [
        "# создаём копию датафрейма станций, изменяя названия колонок\n",
        "stations2 = stations.select(\n",
        "    col(\"id\").alias(\"id2\"),\n",
        "    col(\"name\").alias(\"name2\"),\n",
        "    col(\"lat\").alias(\"lat2\"),\n",
        "    col(\"long\").alias(\"long2\")\n",
        ")\n",
        "\n",
        "# создаём пары станций\n",
        "station_pairs = stations.crossJoin(stations2)\n",
        "\n",
        "# рассчитываем геодезическое расстояние\n",
        "distance= station_pairs.withColumn(\n",
        "    \"distance\",\n",
        "    2 * 6371 * asin(sqrt(\n",
        "        sin((radians(col(\"lat2\")) - radians(col(\"lat\"))) / 2) ** 2 +\n",
        "        cos(radians(col(\"lat\"))) * cos(radians(col(\"lat2\"))) *\n",
        "        sin((radians(col(\"long2\")) - radians(col(\"long\"))) / 2) ** 2\n",
        "    ))\n",
        ")\n",
        "\n",
        "# выводим максимальное расстояние\n",
        "max_distance = distance.orderBy(col(\"distance\").desc()).limit(1)\n",
        "max_distance.select(\"id\", \"name\", \"id2\", \"name2\", \"distance\").show(truncate=False)\n"
      ],
      "metadata": {
        "colab": {
          "base_uri": "https://localhost:8080/"
        },
        "id": "pODP6rwKCVpv",
        "outputId": "fe28e96b-a59a-416e-9635-e43e9c8a0bf5"
      },
      "execution_count": 12,
      "outputs": [
        {
          "output_type": "stream",
          "name": "stdout",
          "text": [
            "+---+--------------------------+---+----------------------+-----------------+\n",
            "|id |name                      |id2|name2                 |distance         |\n",
            "+---+--------------------------+---+----------------------+-----------------+\n",
            "|16 |SJSU - San Salvador at 9th|60 |Embarcadero at Sansome|69.92087595428183|\n",
            "+---+--------------------------+---+----------------------+-----------------+\n",
            "\n"
          ]
        }
      ]
    },
    {
      "cell_type": "markdown",
      "source": [
        "3. Найти путь велосипеда с максимальным временем пробега через станции."
      ],
      "metadata": {
        "id": "ujPfZqRV9eiE"
      }
    },
    {
      "cell_type": "code",
      "source": [
        "longest_trip = (\n",
        "    trips\n",
        "    .select(\"start_station_name\", \"end_station_name\", \"duration\")\n",
        "    .orderBy(col(\"duration\").desc()) # сортируем по убыванию длительности\n",
        "    .limit(1) # выводим максимальное время\n",
        ")\n",
        "\n",
        "longest_trip.show(truncate=False)"
      ],
      "metadata": {
        "id": "qx5NypxQS5hW",
        "colab": {
          "base_uri": "https://localhost:8080/"
        },
        "outputId": "ce3b884e-0899-44cd-a78b-789c716eea87"
      },
      "execution_count": 13,
      "outputs": [
        {
          "output_type": "stream",
          "name": "stdout",
          "text": [
            "+------------------------+----------------+--------+\n",
            "|start_station_name      |end_station_name|duration|\n",
            "+------------------------+----------------+--------+\n",
            "|South Van Ness at Market|2nd at Folsom   |17270400|\n",
            "+------------------------+----------------+--------+\n",
            "\n"
          ]
        }
      ]
    },
    {
      "cell_type": "markdown",
      "source": [
        "4. Найти количество велосипедов в системе."
      ],
      "metadata": {
        "id": "So3Vg5OI9lWB"
      }
    },
    {
      "cell_type": "code",
      "source": [
        "bike_count = trips.select(countDistinct(\"bike_id\").alias(\"total_bikes\")) # подсчет количества уникальных значений по bike_id\n",
        "bike_count.show()"
      ],
      "metadata": {
        "colab": {
          "base_uri": "https://localhost:8080/"
        },
        "id": "qX0MpNqzLAwM",
        "outputId": "8bca14ac-a29f-428d-c12f-f1613c105599"
      },
      "execution_count": 14,
      "outputs": [
        {
          "output_type": "stream",
          "name": "stdout",
          "text": [
            "+-----------+\n",
            "|total_bikes|\n",
            "+-----------+\n",
            "|        700|\n",
            "+-----------+\n",
            "\n"
          ]
        }
      ]
    },
    {
      "cell_type": "markdown",
      "source": [
        "5. Найти пользователей потративших на поездки более 3 часов."
      ],
      "metadata": {
        "id": "BFictNir9lZ9"
      }
    },
    {
      "cell_type": "code",
      "source": [
        "long_duration_trips = trips.filter(col(\"duration\") > 3 * 60 * 60) #оставляем только поездки, где продолжительность больше 3х часов\n",
        "long_duration_trips.show(truncate=False)"
      ],
      "metadata": {
        "colab": {
          "base_uri": "https://localhost:8080/"
        },
        "id": "BZqblLL3Lbb6",
        "outputId": "6d268d54-7572-4480-e8a3-245c5d2ab208"
      },
      "execution_count": 15,
      "outputs": [
        {
          "output_type": "stream",
          "name": "stdout",
          "text": [
            "+----+--------+---------------+------------------------------------+----------------+---------------+------------------------------------+--------------+-------+-----------------+--------+\n",
            "|id  |duration|start_date     |start_station_name                  |start_station_id|end_date       |end_station_name                    |end_station_id|bike_id|subscription_type|zip_code|\n",
            "+----+--------+---------------+------------------------------------+----------------+---------------+------------------------------------+--------------+-------+-----------------+--------+\n",
            "|4639|11118   |8/29/2013 15:18|Market at 4th                       |76              |8/29/2013 18:23|Market at 4th                       |76            |433    |Customer         |NULL    |\n",
            "|4637|11272   |8/29/2013 15:17|Market at 4th                       |76              |8/29/2013 18:25|Market at 4th                       |76            |377    |Customer         |NULL    |\n",
            "|4528|12280   |8/29/2013 13:39|Paseo de San Antonio                |7               |8/29/2013 17:04|Adobe on Almaden                    |5             |645    |Subscriber       |94536   |\n",
            "|4363|15244   |8/29/2013 12:23|Market at 4th                       |76              |8/29/2013 16:37|Powell Street BART                  |39            |434    |Customer         |NULL    |\n",
            "|4193|18192   |8/29/2013 11:04|Embarcadero at Vallejo              |48              |8/29/2013 16:08|Market at Sansome                   |77            |501    |Customer         |72150   |\n",
            "|4190|18240   |8/29/2013 11:04|Embarcadero at Vallejo              |48              |8/29/2013 16:08|Market at Sansome                   |77            |614    |Customer         |72150   |\n",
            "|4225|21612   |8/29/2013 11:18|Powell Street BART                  |39              |8/29/2013 17:18|Market at 10th                      |67            |464    |Customer         |58553   |\n",
            "|4663|52698   |8/29/2013 15:34|Mountain View City Hall             |27              |8/30/2013 6:12 |Park at Olive                       |38            |150    |Subscriber       |94301   |\n",
            "|4532|84990   |8/29/2013 13:43|Market at 4th                       |76              |8/30/2013 13:19|Harry Bridges Plaza (Ferry Building)|50            |460    |Customer         |94118   |\n",
            "|4521|85385   |8/29/2013 13:37|Market at 4th                       |76              |8/30/2013 13:20|Harry Bridges Plaza (Ferry Building)|50            |390    |Customer         |94118   |\n",
            "|5069|86102   |8/29/2013 21:41|Embarcadero at Folsom               |51              |8/30/2013 21:37|Davis at Jackson                    |42            |269    |Customer         |94111   |\n",
            "|4505|97713   |8/29/2013 13:30|Mountain View Caltrain Station      |28              |8/30/2013 16:38|Mountain View City Hall             |27            |141    |Subscriber       |94039   |\n",
            "|5539|10805   |8/30/2013 12:32|Post at Kearney                     |47              |8/30/2013 15:32|Grant Avenue at Columbus Avenue     |73            |484    |Customer         |94133   |\n",
            "|6032|10963   |8/30/2013 16:05|Embarcadero at Vallejo              |48              |8/30/2013 19:08|Harry Bridges Plaza (Ferry Building)|50            |458    |Customer         |94538   |\n",
            "|6409|12408   |8/30/2013 19:54|San Pedro Square                    |6               |8/30/2013 23:21|Japantown                           |9             |638    |Customer         |95112   |\n",
            "|6408|12459   |8/30/2013 19:53|San Pedro Square                    |6               |8/30/2013 23:21|Japantown                           |9             |640    |Customer         |93726   |\n",
            "|5697|12562   |8/30/2013 13:38|Harry Bridges Plaza (Ferry Building)|50              |8/30/2013 17:08|Powell at Post (Union Square)       |71            |627    |Customer         |1945    |\n",
            "|5683|12875   |8/30/2013 13:33|Harry Bridges Plaza (Ferry Building)|50              |8/30/2013 17:07|Powell at Post (Union Square)       |71            |552    |Customer         |1945    |\n",
            "|5218|13809   |8/30/2013 9:50 |Market at Sansome                   |77              |8/30/2013 13:40|Harry Bridges Plaza (Ferry Building)|50            |608    |Customer         |75225   |\n",
            "|5716|14545   |8/30/2013 13:53|Mechanics Plaza (Market at Battery) |75              |8/30/2013 17:56|Embarcadero at Sansome              |60            |439    |Customer         |94123   |\n",
            "+----+--------+---------------+------------------------------------+----------------+---------------+------------------------------------+--------------+-------+-----------------+--------+\n",
            "only showing top 20 rows\n",
            "\n"
          ]
        }
      ]
    }
  ]
}